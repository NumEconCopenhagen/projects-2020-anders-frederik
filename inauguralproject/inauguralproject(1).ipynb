{
 "cells": [
  {
   "cell_type": "code",
   "execution_count": 129,
   "metadata": {},
   "outputs": [],
   "source": [
    "# Inaugural Project"
   ]
  },
  {
   "cell_type": "code",
   "execution_count": 130,
   "metadata": {},
   "outputs": [],
   "source": [
    "#Group: Anders&Frederik\n",
    "\n",
    "#Group members: Frederik Andresen, rjv586. Anders Meelby, zpw586.\n"
   ]
  },
  {
   "cell_type": "code",
   "execution_count": 131,
   "metadata": {},
   "outputs": [
    {
     "name": "stdout",
     "output_type": "stream",
     "text": "The autoreload extension is already loaded. To reload it, use:\n  %reload_ext autoreload\n"
    }
   ],
   "source": [
    "import numpy as np\n",
    "from scipy import optimize\n",
    "# autoreload modules when c\"\"\"  \"\"\"ode is run\n",
    "%load_ext autoreload\n",
    "%autoreload 2\n"
   ]
  },
  {
   "cell_type": "code",
   "execution_count": null,
   "metadata": {},
   "outputs": [],
   "source": []
  },
  {
   "cell_type": "code",
   "execution_count": 132,
   "metadata": {},
   "outputs": [],
   "source": [
    "# Question 1"
   ]
  },
  {
   "cell_type": "code",
   "execution_count": 133,
   "metadata": {},
   "outputs": [],
   "source": [
    "#We first assign the parameters their values and define the utility function and the budget constraint. "
   ]
  },
  {
   "cell_type": "code",
   "execution_count": 134,
   "metadata": {},
   "outputs": [],
   "source": [
    "#1.1. Defining globals\n",
    "m  = 1 #cash-on-hand\n",
    "v  = 10 #scales the disutility of labor\n",
    "e  = 0.3 #Frisch elasticity of labor supply\n",
    "k  = 0.4 #cut-off for the top labor income bracket\n",
    "t0 = 0.4 #standard labor income tax\n",
    "t1 = 0.1 #top bracket labor income tax\n",
    "w  = 1 #wage is assumed exogenous for now\n",
    "\n",
    "#1.2. Defining utility\n",
    "def utility(l,c,e,v):\n",
    "    u = np.log(c) - v*l**(1 + 1/e)/(1 + 1/e)\n",
    "    return u\n",
    "\n",
    "#1.3. Defining budget constraint\n",
    "def bc(m,w,l,t0,t1,k):\n",
    "    budget = m + w*l - w*l*t0 - t1*max((w*l - k),0)\n",
    "    return budget"
   ]
  },
  {
   "cell_type": "code",
   "execution_count": 135,
   "metadata": {},
   "outputs": [],
   "source": [
    "#We then define the budget constraint where we substitute c* into x using that c* = x. The objective function \"utility\" returns the negative value of the utility given a level of consumption- and a labor supply. This function returns a negative function as scipy optimize.minimize_scalar minimizes why minimizing a negative function is equivalent to maximizing. "
   ]
  },
  {
   "cell_type": "code",
   "execution_count": 136,
   "metadata": {},
   "outputs": [],
   "source": [
    "#1.4. Substituting c into budget constraint as c*=x; creating a function l*(l)\n",
    "def c_sub(l,w,e,v,t0,t1,k):\n",
    "    c = bc(m,w,l,t0,t1,k)\n",
    "    return -utility(l,c,e,v)\n"
   ]
  },
  {
   "cell_type": "code",
   "execution_count": 137,
   "metadata": {},
   "outputs": [],
   "source": [
    "#We then define out optimiser \"opt\" using scipy optimize; the function \"opt\" uses c as a function of l to  maximize labor supply given the parameter values using the bounds of (0,1) to the labor supply. The function returns a list of optimal labour supply values from the parameters (floats). \n",
    "#Subsequently, we plug the optimal labor supply into the budget constraint to determine the optimal consumption. Ultimally, we plug the optimal labor supply and -consumption into the \"utility\" to obtain the maximized level of utility. \n"
   ]
  },
  {
   "cell_type": "code",
   "execution_count": 138,
   "metadata": {},
   "outputs": [],
   "source": [
    "#1.5. Finding the l that optimizes l*\n",
    "def optimizer(w,e,v,t0,t1,k,m):\n",
    "    sol = optimize.minimize_scalar(\n",
    "        c_sub, method = 'bounded',\n",
    "        bounds=(0,1), \n",
    "        args = (w,e,v,t0,t1,k))\n",
    "\n",
    "    lstar = sol.x\n",
    "    cstar = bc(m,w,lstar,t0,t1,k)\n",
    "    ustar = utility(lstar,cstar,e,v)\n",
    "\n",
    "    return [lstar,cstar,ustar]\n"
   ]
  },
  {
   "cell_type": "code",
   "execution_count": 139,
   "metadata": {},
   "outputs": [],
   "source": [
    "# Question 2"
   ]
  },
  {
   "cell_type": "code",
   "execution_count": 140,
   "metadata": {},
   "outputs": [],
   "source": [
    "#We plot the optimal labor supply and -consumption as functions of the wage rate. Consequently, we import pyplot from matplotlib. We create a vector of 10.000 evenly spaced wage rates of a specificed interval between 0.5 and 1.5 using np.linspace. For each of these vector values, we need an optimal level of labor supply and -consumption. Accordingly, we use a for-loop with enumerate to create such values into two vectors; one for optimal labor supply and one for optimal consumption. Lastly, we create a plot using the wage rate vector and the two vectors of optimal labor supply and -consumption.  "
   ]
  },
  {
   "cell_type": "code",
   "execution_count": 141,
   "metadata": {},
   "outputs": [
    {
     "ename": "TypeError",
     "evalue": "c_sub() takes 7 positional arguments but 8 were given",
     "output_type": "error",
     "traceback": [
      "\u001b[1;31m---------------------------------------------------------------------------\u001b[0m",
      "\u001b[1;31mTypeError\u001b[0m                                 Traceback (most recent call last)",
      "\u001b[1;32m<ipython-input-141-98246a30db28>\u001b[0m in \u001b[0;36m<module>\u001b[1;34m\u001b[0m\n\u001b[0;32m     13\u001b[0m \u001b[1;31m#2.2. For every i in w_i, we get l_i* and c_i*\u001b[0m\u001b[1;33m\u001b[0m\u001b[1;33m\u001b[0m\u001b[1;33m\u001b[0m\u001b[0m\n\u001b[0;32m     14\u001b[0m \u001b[1;32mfor\u001b[0m \u001b[0mi\u001b[0m\u001b[1;33m,\u001b[0m\u001b[0mw\u001b[0m \u001b[1;32min\u001b[0m \u001b[0menumerate\u001b[0m\u001b[1;33m(\u001b[0m\u001b[0mw_vec\u001b[0m\u001b[1;33m)\u001b[0m\u001b[1;33m:\u001b[0m\u001b[1;33m\u001b[0m\u001b[1;33m\u001b[0m\u001b[0m\n\u001b[1;32m---> 15\u001b[1;33m     \u001b[0mcord\u001b[0m \u001b[1;33m=\u001b[0m \u001b[0mopt\u001b[0m\u001b[1;33m(\u001b[0m\u001b[0mw\u001b[0m\u001b[1;33m,\u001b[0m \u001b[0me\u001b[0m\u001b[1;33m,\u001b[0m \u001b[0mv\u001b[0m\u001b[1;33m,\u001b[0m \u001b[0mt0\u001b[0m\u001b[1;33m,\u001b[0m \u001b[0mt1\u001b[0m\u001b[1;33m,\u001b[0m \u001b[0mk\u001b[0m\u001b[1;33m,\u001b[0m \u001b[0mm\u001b[0m\u001b[1;33m)\u001b[0m\u001b[1;33m\u001b[0m\u001b[1;33m\u001b[0m\u001b[0m\n\u001b[0m\u001b[0;32m     16\u001b[0m     \u001b[0ml_vec\u001b[0m\u001b[1;33m[\u001b[0m\u001b[0mi\u001b[0m\u001b[1;33m]\u001b[0m \u001b[1;33m=\u001b[0m \u001b[0mcord\u001b[0m\u001b[1;33m[\u001b[0m\u001b[1;36m0\u001b[0m\u001b[1;33m]\u001b[0m\u001b[1;33m\u001b[0m\u001b[1;33m\u001b[0m\u001b[0m\n\u001b[0;32m     17\u001b[0m     \u001b[0mc_vec\u001b[0m\u001b[1;33m[\u001b[0m\u001b[0mi\u001b[0m\u001b[1;33m]\u001b[0m \u001b[1;33m=\u001b[0m \u001b[0mcord\u001b[0m\u001b[1;33m[\u001b[0m\u001b[1;36m1\u001b[0m\u001b[1;33m]\u001b[0m\u001b[1;33m\u001b[0m\u001b[1;33m\u001b[0m\u001b[0m\n",
      "\u001b[1;32m<ipython-input-9-9c72c10528c9>\u001b[0m in \u001b[0;36mopt\u001b[1;34m(w, m, v, e, t0, t1, k)\u001b[0m\n\u001b[0;32m      5\u001b[0m         \u001b[0mmethod\u001b[0m \u001b[1;33m=\u001b[0m \u001b[1;34m'bounded'\u001b[0m\u001b[1;33m,\u001b[0m\u001b[1;33m\u001b[0m\u001b[1;33m\u001b[0m\u001b[0m\n\u001b[0;32m      6\u001b[0m         \u001b[0mbounds\u001b[0m   \u001b[1;33m=\u001b[0m \u001b[1;33m(\u001b[0m\u001b[1;36m0\u001b[0m\u001b[1;33m,\u001b[0m \u001b[1;36m1\u001b[0m\u001b[1;33m)\u001b[0m\u001b[1;33m,\u001b[0m\u001b[1;33m\u001b[0m\u001b[1;33m\u001b[0m\u001b[0m\n\u001b[1;32m----> 7\u001b[1;33m         args     = (w, m, v, e, t0, t1, k) )\n\u001b[0m\u001b[0;32m      8\u001b[0m     \u001b[0ml_opt\u001b[0m \u001b[1;33m=\u001b[0m \u001b[0msol\u001b[0m\u001b[1;33m.\u001b[0m\u001b[0mx\u001b[0m\u001b[1;33m\u001b[0m\u001b[1;33m\u001b[0m\u001b[0m\n\u001b[0;32m      9\u001b[0m     \u001b[0mc_opt\u001b[0m \u001b[1;33m=\u001b[0m \u001b[0mbc\u001b[0m\u001b[1;33m(\u001b[0m\u001b[0ml\u001b[0m \u001b[1;33m=\u001b[0m \u001b[0ml_opt\u001b[0m\u001b[1;33m,\u001b[0m \u001b[0mw\u001b[0m \u001b[1;33m=\u001b[0m \u001b[0mw\u001b[0m\u001b[1;33m,\u001b[0m \u001b[0mm\u001b[0m \u001b[1;33m=\u001b[0m \u001b[0mm\u001b[0m\u001b[1;33m,\u001b[0m \u001b[0mt0\u001b[0m \u001b[1;33m=\u001b[0m \u001b[0mt0\u001b[0m\u001b[1;33m,\u001b[0m \u001b[0mt1\u001b[0m \u001b[1;33m=\u001b[0m \u001b[0mt1\u001b[0m\u001b[1;33m,\u001b[0m \u001b[0mk\u001b[0m \u001b[1;33m=\u001b[0m \u001b[0mk\u001b[0m\u001b[1;33m)\u001b[0m \u001b[1;31m#Plutting l* in to bc\u001b[0m\u001b[1;33m\u001b[0m\u001b[1;33m\u001b[0m\u001b[0m\n",
      "\u001b[1;32m~\\Anaconda3\\lib\\site-packages\\scipy\\optimize\\_minimize.py\u001b[0m in \u001b[0;36mminimize_scalar\u001b[1;34m(fun, bracket, bounds, args, method, tol, options)\u001b[0m\n\u001b[0;32m    778\u001b[0m         \u001b[1;32mif\u001b[0m \u001b[0misinstance\u001b[0m\u001b[1;33m(\u001b[0m\u001b[0mdisp\u001b[0m\u001b[1;33m,\u001b[0m \u001b[0mbool\u001b[0m\u001b[1;33m)\u001b[0m\u001b[1;33m:\u001b[0m\u001b[1;33m\u001b[0m\u001b[1;33m\u001b[0m\u001b[0m\n\u001b[0;32m    779\u001b[0m             \u001b[0moptions\u001b[0m\u001b[1;33m[\u001b[0m\u001b[1;34m'disp'\u001b[0m\u001b[1;33m]\u001b[0m \u001b[1;33m=\u001b[0m \u001b[1;36m2\u001b[0m \u001b[1;33m*\u001b[0m \u001b[0mint\u001b[0m\u001b[1;33m(\u001b[0m\u001b[0mdisp\u001b[0m\u001b[1;33m)\u001b[0m\u001b[1;33m\u001b[0m\u001b[1;33m\u001b[0m\u001b[0m\n\u001b[1;32m--> 780\u001b[1;33m         \u001b[1;32mreturn\u001b[0m \u001b[0m_minimize_scalar_bounded\u001b[0m\u001b[1;33m(\u001b[0m\u001b[0mfun\u001b[0m\u001b[1;33m,\u001b[0m \u001b[0mbounds\u001b[0m\u001b[1;33m,\u001b[0m \u001b[0margs\u001b[0m\u001b[1;33m,\u001b[0m \u001b[1;33m**\u001b[0m\u001b[0moptions\u001b[0m\u001b[1;33m)\u001b[0m\u001b[1;33m\u001b[0m\u001b[1;33m\u001b[0m\u001b[0m\n\u001b[0m\u001b[0;32m    781\u001b[0m     \u001b[1;32melif\u001b[0m \u001b[0mmeth\u001b[0m \u001b[1;33m==\u001b[0m \u001b[1;34m'golden'\u001b[0m\u001b[1;33m:\u001b[0m\u001b[1;33m\u001b[0m\u001b[1;33m\u001b[0m\u001b[0m\n\u001b[0;32m    782\u001b[0m         \u001b[1;32mreturn\u001b[0m \u001b[0m_minimize_scalar_golden\u001b[0m\u001b[1;33m(\u001b[0m\u001b[0mfun\u001b[0m\u001b[1;33m,\u001b[0m \u001b[0mbracket\u001b[0m\u001b[1;33m,\u001b[0m \u001b[0margs\u001b[0m\u001b[1;33m,\u001b[0m \u001b[1;33m**\u001b[0m\u001b[0moptions\u001b[0m\u001b[1;33m)\u001b[0m\u001b[1;33m\u001b[0m\u001b[1;33m\u001b[0m\u001b[0m\n",
      "\u001b[1;32m~\\Anaconda3\\lib\\site-packages\\scipy\\optimize\\optimize.py\u001b[0m in \u001b[0;36m_minimize_scalar_bounded\u001b[1;34m(func, bounds, args, xatol, maxiter, disp, **unknown_options)\u001b[0m\n\u001b[0;32m   1772\u001b[0m     \u001b[0mrat\u001b[0m \u001b[1;33m=\u001b[0m \u001b[0me\u001b[0m \u001b[1;33m=\u001b[0m \u001b[1;36m0.0\u001b[0m\u001b[1;33m\u001b[0m\u001b[1;33m\u001b[0m\u001b[0m\n\u001b[0;32m   1773\u001b[0m     \u001b[0mx\u001b[0m \u001b[1;33m=\u001b[0m \u001b[0mxf\u001b[0m\u001b[1;33m\u001b[0m\u001b[1;33m\u001b[0m\u001b[0m\n\u001b[1;32m-> 1774\u001b[1;33m     \u001b[0mfx\u001b[0m \u001b[1;33m=\u001b[0m \u001b[0mfunc\u001b[0m\u001b[1;33m(\u001b[0m\u001b[0mx\u001b[0m\u001b[1;33m,\u001b[0m \u001b[1;33m*\u001b[0m\u001b[0margs\u001b[0m\u001b[1;33m)\u001b[0m\u001b[1;33m\u001b[0m\u001b[1;33m\u001b[0m\u001b[0m\n\u001b[0m\u001b[0;32m   1775\u001b[0m     \u001b[0mnum\u001b[0m \u001b[1;33m=\u001b[0m \u001b[1;36m1\u001b[0m\u001b[1;33m\u001b[0m\u001b[1;33m\u001b[0m\u001b[0m\n\u001b[0;32m   1776\u001b[0m     \u001b[0mfmin_data\u001b[0m \u001b[1;33m=\u001b[0m \u001b[1;33m(\u001b[0m\u001b[1;36m1\u001b[0m\u001b[1;33m,\u001b[0m \u001b[0mxf\u001b[0m\u001b[1;33m,\u001b[0m \u001b[0mfx\u001b[0m\u001b[1;33m)\u001b[0m\u001b[1;33m\u001b[0m\u001b[1;33m\u001b[0m\u001b[0m\n",
      "\u001b[1;31mTypeError\u001b[0m: c_sub() takes 7 positional arguments but 8 were given"
     ]
    }
   ],
   "source": [
    "import matplotlib.pyplot as plt\n",
    "import random\n",
    "plt.style.use('seaborn-poster')\n",
    "\n",
    "np.random.seed(7)\n",
    "\n",
    "#2.1. Defining population size and storage vectors\n",
    "N = 10000\n",
    "w_vec = np.linspace(0.5, 1.5, N)\n",
    "l_vec = np.empty(N)\n",
    "c_vec = np.empty(N)\n",
    "\n",
    "#2.2. For every i in w_i, we get l_i* and c_i*\n",
    "for i,w in enumerate(w_vec):\n",
    "    cord = optimizer(w, e, v, t0, t1, k, m)\n",
    "    l_vec[i] = cord[0]\n",
    "    c_vec[i] = cord[1]\n",
    "\n",
    "#2.3. Choosing figure size\n",
    "fig = plt.figure(figsize=(12,5))\n",
    "\n",
    "#2.3.1 Plotting optimal labor supply again wage using the defined vectors\n",
    "ax_left = fig.add_subplot(1,2,1)\n",
    "ax_left.plot(w_vec,l_vec)\n",
    "\n",
    "ax_left.set_title('Optimal labour supply given wage')\n",
    "ax_left.set_xlabel('$w$')\n",
    "ax_left.set_ylabel('$l^\\star$')\n",
    "ax_left.grid(True)\n",
    "\n",
    "#2.3.2. Plotting optimal consumption again wage using the defined vectors\n",
    "ax_right = fig.add_subplot(1,2,2)\n",
    "\n",
    "ax_right.plot(w_vec,c_vec)\n",
    "\n",
    "ax_right.set_title('Optimal consumption given wage')\n",
    "ax_right.set_xlabel('$w$')\n",
    "ax_right.set_ylabel('$c^\\star$')\n",
    "ax_right.grid(True)\n",
    "\n",
    "plt.show \n"
   ]
  },
  {
   "cell_type": "code",
   "execution_count": null,
   "metadata": {},
   "outputs": [],
   "source": [
    "# We see that a labor supply is increasing but with a diminising rate as the agent values leisure more with a higher wage. Consumption, however, is increasing linearly such that a higher wage result in an approximately 1:1 increase in consumption."
   ]
  },
  {
   "cell_type": "code",
   "execution_count": null,
   "metadata": {},
   "outputs": [],
   "source": [
    "#We calculate the total tax revenue. However, firstly, we need to draw a vector of invidual wages: $w_i ~ U((0.5), (1.5))$ with a population of 10.000. From this distribution, we would need the optimal labor supply and consumption per individual, $i$. We apply the optimizer-function \"opt\" to return the tax payment for each indiviual given the optimal labor supply and -consumption. \n"
   ]
  },
  {
   "cell_type": "code",
   "execution_count": 156,
   "metadata": {},
   "outputs": [
    {
     "name": "stdout",
     "output_type": "stream",
     "text": "tion (w=1): 1.268\nOptimal utility  (w=1): 0.196\nOptimal labor supply (w=1): 0.418\nOptimal consumption (w=1): 1.347\nOptimal utility  (w=1): 0.246\nOptimal labor supply (w=1): 0.394\nOptimal consumption (w=1): 1.216\nOptimal utility  (w=1): 0.154\nOptimal labor supply (w=1): 0.416\nOptimal consumption (w=1): 1.340\nOptimal utility  (w=1): 0.241\nOptimal labor supply (w=1): 0.416\nOptimal consumption (w=1): 1.341\nOptimal utility  (w=1): 0.241\nOptimal labor supply (w=1): 0.408\nOptimal consumption (w=1): 1.310\nOptimal utility  (w=1): 0.222\nOptimal labor supply (w=1): 0.405\nOptimal consumption (w=1): 1.298\nOptimal utility  (w=1): 0.215\nOptimal labor supply (w=1): 0.358\nOptimal consumption (w=1): 1.132\nOptimal utility  (w=1): 0.097\nOptimal labor supply (w=1): 0.351\nOptimal consumption (w=1): 1.119\nOptimal utility  (w=1): 0.088\nOptimal labor supply (w=1): 0.389\nOptimal consumption (w=1): 1.200\nOptimal utility  (w=1): 0.144\nOptimal labor supply (w=1): 0.346\nOptimal consumption (w=1): 1.112\nOptimal utility  (w=1): 0.083\nOptimal labor supply (w=1): 0.375\nOptimal consumption (w=1): 1.166\nOptimal utility  (w=1): 0.121\nOptimal labor supply (w=1): 0.389\nOptimal consumption (w=1): 1.249\nOptimal utility  (w=1): 0.184\nOptimal labor supply (w=1): 0.398\nOptimal consumption (w=1): 1.227\nOptimal utility  (w=1): 0.162\nOptimal labor supply (w=1): 0.348\nOptimal consumption (w=1): 1.115\nOptimal utility  (w=1): 0.085\nOptimal labor supply (w=1): 0.413\nOptimal consumption (w=1): 1.328\nOptimal utility  (w=1): 0.233\nOptimal labor supply (w=1): 0.362\nOptimal consumption (w=1): 1.140\nOptimal utility  (w=1): 0.103\nOptimal labor supply (w=1): 0.394\nOptimal consumption (w=1): 1.214\nOptimal utility  (w=1): 0.153\nOptimal labor supply (w=1): 0.352\nOptimal consumption (w=1): 1.122\nOptimal utility  (w=1): 0.090\nOptimal labor supply (w=1): 0.410\nOptimal consumption (w=1): 1.315\nOptimal utility  (w=1): 0.225\nOptimal labor supply (w=1): 0.375\nOptimal consumption (w=1): 1.166\nOptimal utility  (w=1): 0.121\nOptimal labor supply (w=1): 0.400\nOptimal consumption (w=1): 1.283\nOptimal utility  (w=1): 0.205\nOptimal labor supply (w=1): 0.380\nOptimal consumption (w=1): 1.179\nOptimal utility  (w=1): 0.130\nOptimal labor supply (w=1): 0.404\nOptimal consumption (w=1): 1.296\nOptimal utility  (w=1): 0.214\nOptimal labor supply (w=1): 0.420\nOptimal consumption (w=1): 1.355\nOptimal utility  (w=1): 0.250\nOptimal labor supply (w=1): 0.416\nOptimal consumption (w=1): 1.340\nOptimal utility  (w=1): 0.241\nOptimal labor supply (w=1): 0.340\nOptimal consumption (w=1): 1.102\nOptimal utility  (w=1): 0.076\nOptimal labor supply (w=1): 0.386\nOptimal consumption (w=1): 1.192\nOptimal utility  (w=1): 0.139\nOptimal labor supply (w=1): 0.408\nOptimal consumption (w=1): 1.310\nOptimal utility  (w=1): 0.222\nOptimal labor supply (w=1): 0.361\nOptimal consumption (w=1): 1.138\nOptimal utility  (w=1): 0.101\nOptimal labor supply (w=1): 0.407\nOptimal consumption (w=1): 1.306\nOptimal utility  (w=1): 0.220\nOptimal labor supply (w=1): 0.420\nOptimal consumption (w=1): 1.354\nOptimal utility  (w=1): 0.250\nOptimal labor supply (w=1): 0.407\nOptimal consumption (w=1): 1.307\nOptimal utility  (w=1): 0.220\nOptimal labor supply (w=1): 0.404\nOptimal consumption (w=1): 1.296\nOptimal utility  (w=1): 0.214\nOptimal labor supply (w=1): 0.417\nOptimal consumption (w=1): 1.344\nOptimal utility  (w=1): 0.243\nOptimal labor supply (w=1): 0.396\nOptimal consumption (w=1): 1.269\nOptimal utility  (w=1): 0.197\nOptimal labor supply (w=1): 0.402\nOptimal consumption (w=1): 1.288\nOptimal utility  (w=1): 0.209\nOptimal labor supply (w=1): 0.391\nOptimal consumption (w=1): 1.254\nOptimal utility  (w=1): 0.187\nOptimal labor supply (w=1): 0.398\nOptimal consumption (w=1): 1.276\nOptimal utility  (w=1): 0.201\nOptimal labor supply (w=1): 0.417\nOptimal consumption (w=1): 1.342\nOptimal utility  (w=1): 0.242\nOptimal labor supply (w=1): 0.397\nOptimal consumption (w=1): 1.222\nOptimal utility  (w=1): 0.159\nOptimal labor supply (w=1): 0.346\nOptimal consumption (w=1): 1.112\nOptimal utility  (w=1): 0.083\nOptimal labor supply (w=1): 0.419\nOptimal consumption (w=1): 1.350\nOptimal utility  (w=1): 0.247\nOptimal labor supply (w=1): 0.376\nOptimal consumption (w=1): 1.169\nOptimal utility  (w=1): 0.123\nOptimal labor supply (w=1): 0.402\nOptimal consumption (w=1): 1.239\nOptimal utility  (w=1): 0.170\nOptimal labor supply (w=1): 0.417\nOptimal consumption (w=1): 1.342\nOptimal utility  (w=1): 0.242\nOptimal labor supply (w=1): 0.367\nOptimal consumption (w=1): 1.150\nOptimal utility  (w=1): 0.110\nOptimal labor supply (w=1): 0.394\nOptimal consumption (w=1): 1.263\nOptimal utility  (w=1): 0.193\nOptimal labor supply (w=1): 0.375\nOptimal consumption (w=1): 1.166\nOptimal utility  (w=1): 0.121\nOptimal labor supply (w=1): 0.386\nOptimal consumption (w=1): 1.241\nOptimal utility  (w=1): 0.179\nOptimal labor supply (w=1): 0.370\nOptimal consumption (w=1): 1.154\nOptimal utility  (w=1): 0.113\nOptimal labor supply (w=1): 0.393\nOptimal consumption (w=1): 1.260\nOptimal utility  (w=1): 0.191\nOptimal labor supply (w=1): 0.392\nOptimal consumption (w=1): 1.240\nOptimal utility  (w=1): 0.175\nOptimal labor supply (w=1): 0.409\nOptimal consumption (w=1): 1.311\nOptimal utility  (w=1): 0.223\nOptimal labor supply (w=1): 0.386\nOptimal consumption (w=1): 1.192\nOptimal utility  (w=1): 0.138\nOptimal labor supply (w=1): 0.403\nOptimal consumption (w=1): 1.292\nOptimal utility  (w=1): 0.211\nOptimal labor supply (w=1): 0.393\nOptimal consumption (w=1): 1.212\nOptimal utility  (w=1): 0.152\nOptimal labor supply (w=1): 0.399\nOptimal consumption (w=1): 1.231\nOptimal utility  (w=1): 0.164\nOptimal labor supply (w=1): 0.365\nOptimal consumption (w=1): 1.145\nOptimal utility  (w=1): 0.106\nOptimal labor supply (w=1): 0.387\nOptimal consumption (w=1): 1.195\nOptimal utility  (w=1): 0.140\nOptimal labor supply (w=1): 0.348\nOptimal consumption (w=1): 1.115\nOptimal utility  (w=1): 0.085\nOptimal labor supply (w=1): 0.360\nOptimal consumption (w=1): 1.135\nOptimal utility  (w=1): 0.099\nOptimal labor supply (w=1): 0.401\nOptimal consumption (w=1): 1.286\nOptimal utility  (w=1): 0.207\nOptimal labor supply (w=1): 0.371\nOptimal consumption (w=1): 1.157\nOptimal utility  (w=1): 0.114\nOptimal labor supply (w=1): 0.390\nOptimal consumption (w=1): 1.251\nOptimal utility  (w=1): 0.185\nOptimal labor supply (w=1): 0.375\nOptimal consumption (w=1): 1.167\nOptimal utility  (w=1): 0.121\nOptimal labor supply (w=1): 0.343\nOptimal consumption (w=1): 1.108\nOptimal utility  (w=1): 0.080\nOptimal labor supply (w=1): 0.399\nOptimal consumption (w=1): 1.228\nOptimal utility  (w=1): 0.163\nOptimal labor supply (w=1): 0.365\nOptimal consumption (w=1): 1.145\nOptimal utility  (w=1): 0.106\nOptimal labor supply (w=1): 0.398\nOptimal consumption (w=1): 1.240\nOptimal utility  (w=1): 0.173\nOptimal labor supply (w=1): 0.358\nOptimal consumption (w=1): 1.131\nOptimal utility  (w=1): 0.096\nOptimal labor supply (w=1): 0.399\nOptimal consumption (w=1): 1.278\nOptimal utility  (w=1): 0.202\nOptimal labor supply (w=1): 0.391\nOptimal consumption (w=1): 1.240\nOptimal utility  (w=1): 0.176\nOptimal labor supply (w=1): 0.405\nOptimal consumption (w=1): 1.300\nOptimal utility  (w=1): 0.216\nOptimal labor supply (w=1): 0.397\nOptimal consumption (w=1): 1.273\nOptimal utility  (w=1): 0.199\nOptimal labor supply (w=1): 0.413\nOptimal consumption (w=1): 1.329\nOptimal utility  (w=1): 0.234\nOptimal labor supply (w=1): 0.371\nOptimal consumption (w=1): 1.158\nOptimal utility  (w=1): 0.115\nOptimal labor supply (w=1): 0.390\nOptimal consumption (w=1): 1.253\nOptimal utility  (w=1): 0.186\nOptimal labor supply (w=1): 0.356\nOptimal consumption (w=1): 1.129\nOptimal utility  (w=1): 0.095\nOptimal labor supply (w=1): 0.399\nOptimal consumption (w=1): 1.279\nOptimal utility  (w=1): 0.203\nOptimal labor supply (w=1): 0.391\nOptimal consumption (w=1): 1.254\nOptimal utility  (w=1): 0.187\nOptimal labor supply (w=1): 0.369\nOptimal consumption (w=1): 1.154\nOptimal utility  (w=1): 0.112\nOptimal labor supply (w=1): 0.409\nOptimal consumption (w=1): 1.314\nOptimal utility  (w=1): 0.225\nOptimal labor supply (w=1): 0.383\nOptimal consumption (w=1): 1.186\nOptimal utility  (w=1): 0.134\nOptimal labor supply (w=1): 0.395\nOptimal consumption (w=1): 1.217\nOptimal utility  (w=1): 0.155\nOptimal labor supply (w=1): 0.396\nOptimal consumption (w=1): 1.269\nOptimal utility  (w=1): 0.197\nOptimal labor supply (w=1): 0.360\nOptimal consumption (w=1): 1.135\nOptimal utility  (w=1): 0.099\nOptimal labor supply (w=1): 0.377\nOptimal consumption (w=1): 1.171\nOptimal utility  (w=1): 0.124\nOptimal labor supply (w=1): 0.414\nOptimal consumption (w=1): 1.332\nOptimal utility  (w=1): 0.236\nOptimal labor supply (w=1): 0.388\nOptimal consumption (w=1): 1.197\nOptimal utility  (w=1): 0.142\nOptimal labor supply (w=1): 0.417\nOptimal consumption (w=1): 1.342\nOptimal utility  (w=1): 0.242\nOptimal labor supply (w=1): 0.388\nOptimal consumption (w=1): 1.245\nOptimal utility  (w=1): 0.181\nOptimal labor supply (w=1): 0.396\nOptimal consumption (w=1): 1.270\nOptimal utility  (w=1): 0.197\nOptimal labor supply (w=1): 0.402\nOptimal consumption (w=1): 1.288\nOptimal utility  (w=1): 0.209\nOptimal labor supply (w=1): 0.410\nOptimal consumption (w=1): 1.317\nOptimal utility  (w=1): 0.227\nOptimal labor supply (w=1): 0.417\nOptimal consumption (w=1): 1.342\nOptimal utility  (w=1): 0.242\nOptimal labor supply (w=1): 0.356\nOptimal consumption (w=1): 1.129\nOptimal utility  (w=1): 0.095\nOptimal labor supply (w=1): 0.388\nOptimal consumption (w=1): 1.246\nOptimal utility  (w=1): 0.182\nOptimal labor supply (w=1): 0.388\nOptimal consumption (w=1): 1.246\nOptimal utility  (w=1): 0.182\nOptimal labor supply (w=1): 0.365\nOptimal consumption (w=1): 1.144\nOptimal utility  (w=1): 0.106\nOptimal labor supply (w=1): 0.396\nOptimal consumption (w=1): 1.269\nOptimal utility  (w=1): 0.197\nOptimal labor supply (w=1): 0.379\nOptimal consumption (w=1): 1.175\nOptimal utility  (w=1): 0.127\nOptimal labor supply (w=1): 0.393\nOptimal consumption (w=1): 1.212\nOptimal utility  (w=1): 0.152\nOptimal labor supply (w=1): 0.417\nOptimal consumption (w=1): 1.343\nOptimal utility  (w=1): 0.243\nOptimal labor supply (w=1): 0.345\nOptimal consumption (w=1): 1.110\nOptimal utility  (w=1): 0.082\nOptimal labor supply (w=1): 0.387\nOptimal consumption (w=1): 1.243\nOptimal utility  (w=1): 0.180\nOptimal labor supply (w=1): 0.381\nOptimal consumption (w=1): 1.181\nOptimal utility  (w=1): 0.131\nOptimal labor supply (w=1): 0.400\nOptimal consumption (w=1): 1.281\nOptimal utility  (w=1): 0.204\nOptimal labor supply (w=1): 0.408\nOptimal consumption (w=1): 1.310\nOptimal utility  (w=1): 0.222\nOptimal labor supply (w=1): 0.388\nOptimal consumption (w=1): 1.199\nOptimal utility  (w=1): 0.143\nOptimal labor supply (w=1): 0.392\nOptimal consumption (w=1): 1.258\nOptimal utility  (w=1): 0.190\nOptimal labor supply (w=1): 0.411\nOptimal consumption (w=1): 1.321\nOptimal utility  (w=1): 0.229\nOptimal labor supply (w=1): 0.368\nOptimal consumption (w=1): 1.152\nOptimal utility  (w=1): 0.111\nOptimal labor supply (w=1): 0.410\nOptimal consumption (w=1): 1.315\nOptimal utility  (w=1): 0.226\nOptimal labor supply (w=1): 0.389\nOptimal consumption (w=1): 1.248\nOptimal utility  (w=1): 0.183\nOptimal labor supply (w=1): 0.394\nOptimal consumption (w=1): 1.263\nOptimal utility  (w=1): 0.193\nOptimal labor supply (w=1): 0.400\nOptimal consumption (w=1): 1.231\nOptimal utility  (w=1): 0.165\nOptimal labor supply (w=1): 0.393\nOptimal consumption (w=1): 1.211\nOptimal utility  (w=1): 0.151\nOptimal labor supply (w=1): 0.395\nOptimal consumption (w=1): 1.266\nOptimal utility  (w=1): 0.194\nOptimal labor supply (w=1): 0.419\nOptimal consumption (w=1): 1.351\nOptimal utility  (w=1): 0.247\nOptimal labor supply (w=1): 0.382\nOptimal consumption (w=1): 1.183\nOptimal utility  (w=1): 0.132\nOptimal labor supply (w=1): 0.361\nOptimal consumption (w=1): 1.137\nOptimal utility  (w=1): 0.101\nOptimal labor supply (w=1): 0.411\nOptimal consumption (w=1): 1.318\nOptimal utility  (w=1): 0.228\nOptimal labor supply (w=1): 0.400\nOptimal consumption (w=1): 1.280\nOptimal utility  (w=1): 0.204\nOptimal labor supply (w=1): 0.384\nOptimal consumption (w=1): 1.187\nOptimal utility  (w=1): 0.135\nOptimal labor supply (w=1): 0.356\nOptimal consumption (w=1): 1.128\nOptimal utility  (w=1): 0.094\nOptimal labor supply (w=1): 0.403\nOptimal consumption (w=1): 1.291\nOptimal utility  (w=1): 0.210\nOptimal labor supply (w=1): 0.387\nOptimal consumption (w=1): 1.244\nOptimal utility  (w=1): 0.180\nOptimal labor supply (w=1): 0.395\nOptimal consumption (w=1): 1.218\nOptimal utility  (w=1): 0.156\nOptimal labor supply (w=1): 0.410\nOptimal consumption (w=1): 1.315\nOptimal utility  (w=1): 0.225\nOptimal labor supply (w=1): 0.387\nOptimal consumption (w=1): 1.240\nOptimal utility  (w=1): 0.177\nOptimal labor supply (w=1): 0.387\nOptimal consumption (w=1): 1.242\nOptimal utility  (w=1): 0.179\nOptimal labor supply (w=1): 0.399\nOptimal consumption (w=1): 1.278\nOptimal utility  (w=1): 0.202\nOptimal labor supply (w=1): 0.409\nOptimal consumption (w=1): 1.314\nOptimal utility  (w=1): 0.225\nOptimal labor supply (w=1): 0.412\nOptimal consumption (w=1): 1.325\nOptimal utility  (w=1): 0.232\nOptimal labor supply (w=1): 0.394\nOptimal consumption (w=1): 1.264\nOptimal utility  (w=1): 0.193\nOptimal labor supply (w=1): 0.375\nOptimal consumption (w=1): 1.165\nOptimal utility  (w=1): 0.120\nOptimal labor supply (w=1): 0.395\nOptimal consumption (w=1): 1.266\nOptimal utility  (w=1): 0.195\nOptimal labor supply (w=1): 0.410\nOptimal consumption (w=1): 1.316\nOptimal utility  (w=1): 0.226\nOptimal labor supply (w=1): 0.383\nOptimal consumption (w=1): 1.184\nOptimal utility  (w=1): 0.133\nOptimal labor supply (w=1): 0.375\nOptimal consumption (w=1): 1.166\nOptimal utility  (w=1): 0.121\nOptimal labor supply (w=1): 0.395\nOptimal consumption (w=1): 1.267\nOptimal utility  (w=1): 0.196\nOptimal labor supply (w=1): 0.359\nOptimal consumption (w=1): 1.133\nOptimal utility  (w=1): 0.098\nOptimal labor supply (w=1): 0.398\nOptimal consumption (w=1): 1.225\nOptimal utility  (w=1): 0.161\nOptimal labor supply (w=1): 0.394\nOptimal consumption (w=1): 1.262\nOptimal utility  (w=1): 0.192\nOptimal labor supply (w=1): 0.367\nOptimal consumption (w=1): 1.149\nOptimal utility  (w=1): 0.109\nOptimal labor supply (w=1): 0.403\nOptimal consumption (w=1): 1.292\nOptimal utility  (w=1): 0.211\nOptimal labor supply (w=1): 0.413\nOptimal consumption (w=1): 1.329\nOptimal utility  (w=1): 0.235\nOptimal labor supply (w=1): 0.405\nOptimal consumption (w=1): 1.299\nOptimal utility  (w=1): 0.216\nOptimal labor supply (w=1): 0.392\nOptimal consumption (w=1): 1.210\nOptimal utility  (w=1): 0.150\nOptimal labor supply (w=1): 0.408\nOptimal consumption (w=1): 1.309\nOptimal utility  (w=1): 0.222\nOptimal labor supply (w=1): 0.357\nOptimal consumption (w=1): 1.130\nOptimal utility  (w=1): 0.095\nOptimal labor supply (w=1): 0.343\nOptimal consumption (w=1): 1.108\nOptimal utility  (w=1): 0.080\nOptimal labor supply (w=1): 0.408\nOptimal consumption (w=1): 1.310\nOptimal utility  (w=1): 0.222\nOptimal labor supply (w=1): 0.414\nOptimal consumption (w=1): 1.330\nOptimal utility  (w=1): 0.235\nOptimal labor supply (w=1): 0.387\nOptimal consumption (w=1): 1.242\nOptimal utility  (w=1): 0.179\nOptimal labor supply (w=1): 0.377\nOptimal consumption (w=1): 1.171\nOptimal utility  (w=1): 0.124\nOptimal labor supply (w=1): 0.400\nOptimal consumption (w=1): 1.281\nOptimal utility  (w=1): 0.204\nOptimal labor supply (w=1): 0.367\nOptimal consumption (w=1): 1.150\nOptimal utility  (w=1): 0.110\nOptimal labor supply (w=1): 0.347\nOptimal consumption (w=1): 1.113\nOptimal utility  (w=1): 0.084\nOptimal labor supply (w=1): 0.366\nOptimal consumption (w=1): 1.148\nOptimal utility  (w=1): 0.108\nOptimal labor supply (w=1): 0.389\nOptimal consumption (w=1): 1.199\nOptimal utility  (w=1): 0.143\nOptimal labor supply (w=1): 0.395\nOptimal consumption (w=1): 1.217\nOptimal utility  (w=1): 0.155\nOptimal labor supply (w=1): 0.389\nOptimal consumption (w=1): 1.248\nOptimal utility  (w=1): 0.183\nOptimal labor supply (w=1): 0.387\nOptimal consumption (w=1): 1.197\nOptimal utility  (w=1): 0.142\nOptimal labor supply (w=1): 0.410\nOptimal consumption (w=1): 1.318\nOptimal utility  (w=1): 0.227\nOptimal labor supply (w=1): 0.414\nOptimal consumption (w=1): 1.330\nOptimal utility  (w=1): 0.235\nOptimal labor supply (w=1): 0.401\nOptimal consumption (w=1): 1.236\nOptimal utility  (w=1): 0.168\nOptimal labor supply (w=1): 0.380\nOptimal consumption (w=1): 1.178\nOptimal utility  (w=1): 0.129\nOptimal labor supply (w=1): 0.409\nOptimal consumption (w=1): 1.314\nOptimal utility  (w=1): 0.225\nOptimal labor supply (w=1): 0.418\nOptimal consumption (w=1): 1.348\nOptimal utility  (w=1): 0.246\nOptimal labor supply (w=1): 0.359\nOptimal consumption (w=1): 1.134\nOptimal utility  (w=1): 0.099\nOptimal labor supply (w=1): 0.412\nOptimal consumption (w=1): 1.325\nOptimal utility  (w=1): 0.232\nOptimal labor supply (w=1): 0.381\nOptimal consumption (w=1): 1.181\nOptimal utility  (w=1): 0.131\nOptimal labor supply (w=1): 0.387\nOptimal consumption (w=1): 1.244\nOptimal utility  (w=1): 0.181\nOptimal labor supply (w=1): 0.392\nOptimal consumption (w=1): 1.257\nOptimal utility  (w=1): 0.189\nOptimal labor supply (w=1): 0.362\nOptimal consumption (w=1): 1.139\nOptimal utility  (w=1): 0.102\nOptimal labor supply (w=1): 0.402\nOptimal consumption (w=1): 1.287\nOptimal utility  (w=1): 0.208\nOptimal labor supply (w=1): 0.401\nOptimal consumption (w=1): 1.286\nOptimal utility  (w=1): 0.208\nOptimal labor supply (w=1): 0.389\nOptimal consumption (w=1): 1.240\nOptimal utility  (w=1): 0.176\nOptimal labor supply (w=1): 0.397\nOptimal consumption (w=1): 1.273\nOptimal utility  (w=1): 0.199\nOptimal labor supply (w=1): 0.343\nOptimal consumption (w=1): 1.107\nOptimal utility  (w=1): 0.079\nOptimal labor supply (w=1): 0.400\nOptimal consumption (w=1): 1.283\nOptimal utility  (w=1): 0.205\nOptimal labor supply (w=1): 0.343\nOptimal consumption (w=1): 1.107\nOptimal utility  (w=1): 0.080\nOptimal labor supply (w=1): 0.410\nOptimal consumption (w=1): 1.316\nOptimal utility  (w=1): 0.226\nOptimal labor supply (w=1): 0.409\nOptimal consumption (w=1): 1.312\nOptimal utility  (w=1): 0.224\nOptimal labor supply (w=1): 0.417\nOptimal consumption (w=1): 1.344\nOptimal utility  (w=1): 0.243\nOptimal labor supply (w=1): 0.410\nOptimal consumption (w=1): 1.317\nOptimal utility  (w=1): 0.227\nOptimal labor supply (w=1): 0.374\nOptimal consumption (w=1): 1.164\nOptimal utility  (w=1): 0.119\nOptimal labor supply (w=1): 0.415\nOptimal consumption (w=1): 1.336\nOptimal utility  (w=1): 0.238\nOptimal labor supply (w=1): 0.389\nOptimal consumption (w=1): 1.200\nOptimal utility  (w=1): 0.144\nOptimal labor supply (w=1): 0.343\nOptimal consumption (w=1): 1.107\nOptimal utility  (w=1): 0.080\nOptimal labor supply (w=1): 0.408\nOptimal consumption (w=1): 1.308\nOptimal utility  (w=1): 0.221\nOptimal labor supply (w=1): 0.395\nOptimal consumption (w=1): 1.240\nOptimal utility  (w=1): 0.174\nOptimal labor supply (w=1): 0.394\nOptimal consumption (w=1): 1.214\nOptimal utility  (w=1): 0.153\nOptimal labor supply (w=1): 0.386\nOptimal consumption (w=1): 1.240\nOptimal utility  (w=1): 0.178\nOptimal labor supply (w=1): 0.397\nOptimal consumption (w=1): 1.272\nOptimal utility  (w=1): 0.199\nOptimal labor supply (w=1): 0.369\nOptimal consumption (w=1): 1.154\nOptimal utility  (w=1): 0.112\nOptimal labor supply (w=1): 0.341\nOptimal consumption (w=1): 1.104\nOptimal utility  (w=1): 0.077\nOptimal labor supply (w=1): 0.371\nOptimal consumption (w=1): 1.157\nOptimal utility  (w=1): 0.115\nOptimal labor supply (w=1): 0.359\nOptimal consumption (w=1): 1.133\nOptimal utility  (w=1): 0.098\nOptimal labor supply (w=1): 0.348\nOptimal consumption (w=1): 1.115\nOptimal utility  (w=1): 0.085\nOptimal labor supply (w=1): 0.340\nOptimal consumption (w=1): 1.103\nOptimal utility  (w=1): 0.076\nOptimal labor supply (w=1): 0.389\nOptimal consumption (w=1): 1.240\nOptimal utility  (w=1): 0.177\nOptimal labor supply (w=1): 0.372\nOptimal consumption (w=1): 1.161\nOptimal utility  (w=1): 0.117\nOptimal labor supply (w=1): 0.406\nOptimal consumption (w=1): 1.302\nOptimal utility  (w=1): 0.217\nOptimal labor supply (w=1): 0.387\nOptimal consumption (w=1): 1.242\n"
    },
    {
     "ename": "KeyboardInterrupt",
     "evalue": "",
     "output_type": "error",
     "traceback": [
      "\u001b[1;31m---------------------------------------------------------------------------\u001b[0m",
      "\u001b[1;31mKeyboardInterrupt\u001b[0m                         Traceback (most recent call last)",
      "\u001b[1;32m<ipython-input-156-78e329988f46>\u001b[0m in \u001b[0;36m<module>\u001b[1;34m\u001b[0m\n\u001b[0;32m     23\u001b[0m \u001b[1;33m\u001b[0m\u001b[0m\n\u001b[0;32m     24\u001b[0m \u001b[1;31m#3.4. Calling total tax revenue using the array of randomly drawn wages\u001b[0m\u001b[1;33m\u001b[0m\u001b[1;33m\u001b[0m\u001b[1;33m\u001b[0m\u001b[0m\n\u001b[1;32m---> 25\u001b[1;33m \u001b[0mTotal_tax0\u001b[0m \u001b[1;33m=\u001b[0m \u001b[0mTotal_tax\u001b[0m\u001b[1;33m(\u001b[0m\u001b[0mWage_draw\u001b[0m\u001b[1;33m,\u001b[0m\u001b[0me\u001b[0m\u001b[1;33m,\u001b[0m\u001b[0mv\u001b[0m\u001b[1;33m,\u001b[0m\u001b[0mt0\u001b[0m\u001b[1;33m,\u001b[0m\u001b[0mt1\u001b[0m\u001b[1;33m,\u001b[0m\u001b[0mk\u001b[0m\u001b[1;33m,\u001b[0m\u001b[0mm\u001b[0m\u001b[1;33m)\u001b[0m\u001b[1;33m\u001b[0m\u001b[1;33m\u001b[0m\u001b[0m\n\u001b[0m\u001b[0;32m     26\u001b[0m \u001b[0mprint\u001b[0m\u001b[1;33m(\u001b[0m\u001b[1;34mf'The total tax revenue is {Total_tax0:.1f}'\u001b[0m\u001b[1;33m)\u001b[0m\u001b[1;33m\u001b[0m\u001b[1;33m\u001b[0m\u001b[0m\n",
      "\u001b[1;32m<ipython-input-156-78e329988f46>\u001b[0m in \u001b[0;36mTotal_tax\u001b[1;34m(PopWageVector, e, v, t0, t1, k, m)\u001b[0m\n\u001b[0;32m     12\u001b[0m     \u001b[1;31m#3.2 For each wage rate, return the optimal labor supply by using the optimizer function\u001b[0m\u001b[1;33m\u001b[0m\u001b[1;33m\u001b[0m\u001b[1;33m\u001b[0m\u001b[0m\n\u001b[0;32m     13\u001b[0m     \u001b[1;32mfor\u001b[0m \u001b[0mi\u001b[0m\u001b[1;33m,\u001b[0m\u001b[0mw\u001b[0m \u001b[1;32min\u001b[0m \u001b[0menumerate\u001b[0m\u001b[1;33m(\u001b[0m\u001b[0mPopWageVector\u001b[0m\u001b[1;33m)\u001b[0m\u001b[1;33m:\u001b[0m\u001b[1;33m\u001b[0m\u001b[1;33m\u001b[0m\u001b[0m\n\u001b[1;32m---> 14\u001b[1;33m         \u001b[0mthe_optimum\u001b[0m\u001b[1;33m=\u001b[0m\u001b[0moptimizer\u001b[0m\u001b[1;33m(\u001b[0m\u001b[0mw\u001b[0m\u001b[1;33m,\u001b[0m\u001b[0me\u001b[0m\u001b[1;33m,\u001b[0m\u001b[0mv\u001b[0m\u001b[1;33m,\u001b[0m\u001b[0mt0\u001b[0m\u001b[1;33m,\u001b[0m\u001b[0mt1\u001b[0m\u001b[1;33m,\u001b[0m\u001b[0mk\u001b[0m\u001b[1;33m,\u001b[0m\u001b[0mm\u001b[0m\u001b[1;33m)\u001b[0m\u001b[1;33m\u001b[0m\u001b[1;33m\u001b[0m\u001b[0m\n\u001b[0m\u001b[0;32m     15\u001b[0m         \u001b[0mopt_labor\u001b[0m\u001b[1;33m=\u001b[0m\u001b[0mthe_optimum\u001b[0m\u001b[1;33m[\u001b[0m\u001b[1;36m0\u001b[0m\u001b[1;33m]\u001b[0m\u001b[1;33m\u001b[0m\u001b[1;33m\u001b[0m\u001b[0m\n\u001b[0;32m     16\u001b[0m \u001b[1;33m\u001b[0m\u001b[0m\n",
      "\u001b[1;32m<ipython-input-138-67856017b788>\u001b[0m in \u001b[0;36moptimizer\u001b[1;34m(w, e, v, t0, t1, k, m)\u001b[0m\n\u001b[0;32m     13\u001b[0m \u001b[1;33m\u001b[0m\u001b[0m\n\u001b[0;32m     14\u001b[0m     \u001b[0mprint\u001b[0m\u001b[1;33m(\u001b[0m\u001b[1;34mf'Optimal labor supply (w=1): {lstar:.3f}'\u001b[0m\u001b[1;33m)\u001b[0m\u001b[1;33m\u001b[0m\u001b[1;33m\u001b[0m\u001b[0m\n\u001b[1;32m---> 15\u001b[1;33m     \u001b[0mprint\u001b[0m\u001b[1;33m(\u001b[0m\u001b[1;34mf'Optimal consumption (w=1): {cstar:.3f}'\u001b[0m\u001b[1;33m)\u001b[0m\u001b[1;33m\u001b[0m\u001b[1;33m\u001b[0m\u001b[0m\n\u001b[0m\u001b[0;32m     16\u001b[0m     \u001b[0mprint\u001b[0m\u001b[1;33m(\u001b[0m\u001b[1;34mf'Optimal utility  (w=1): {ustar:.3f}'\u001b[0m\u001b[1;33m)\u001b[0m\u001b[1;33m\u001b[0m\u001b[1;33m\u001b[0m\u001b[0m\n\u001b[0;32m     17\u001b[0m     \u001b[1;32mreturn\u001b[0m \u001b[1;33m[\u001b[0m\u001b[0mlstar\u001b[0m\u001b[1;33m,\u001b[0m\u001b[0mcstar\u001b[0m\u001b[1;33m,\u001b[0m\u001b[0mustar\u001b[0m\u001b[1;33m]\u001b[0m\u001b[1;33m\u001b[0m\u001b[1;33m\u001b[0m\u001b[0m\n",
      "\u001b[1;32m~\\Anaconda3\\lib\\site-packages\\ipykernel\\iostream.py\u001b[0m in \u001b[0;36mwrite\u001b[1;34m(self, string)\u001b[0m\n\u001b[0;32m    400\u001b[0m             \u001b[0mis_child\u001b[0m \u001b[1;33m=\u001b[0m \u001b[1;33m(\u001b[0m\u001b[1;32mnot\u001b[0m \u001b[0mself\u001b[0m\u001b[1;33m.\u001b[0m\u001b[0m_is_master_process\u001b[0m\u001b[1;33m(\u001b[0m\u001b[1;33m)\u001b[0m\u001b[1;33m)\u001b[0m\u001b[1;33m\u001b[0m\u001b[1;33m\u001b[0m\u001b[0m\n\u001b[0;32m    401\u001b[0m             \u001b[1;31m# only touch the buffer in the IO thread to avoid races\u001b[0m\u001b[1;33m\u001b[0m\u001b[1;33m\u001b[0m\u001b[1;33m\u001b[0m\u001b[0m\n\u001b[1;32m--> 402\u001b[1;33m             \u001b[0mself\u001b[0m\u001b[1;33m.\u001b[0m\u001b[0mpub_thread\u001b[0m\u001b[1;33m.\u001b[0m\u001b[0mschedule\u001b[0m\u001b[1;33m(\u001b[0m\u001b[1;32mlambda\u001b[0m \u001b[1;33m:\u001b[0m \u001b[0mself\u001b[0m\u001b[1;33m.\u001b[0m\u001b[0m_buffer\u001b[0m\u001b[1;33m.\u001b[0m\u001b[0mwrite\u001b[0m\u001b[1;33m(\u001b[0m\u001b[0mstring\u001b[0m\u001b[1;33m)\u001b[0m\u001b[1;33m)\u001b[0m\u001b[1;33m\u001b[0m\u001b[1;33m\u001b[0m\u001b[0m\n\u001b[0m\u001b[0;32m    403\u001b[0m             \u001b[1;32mif\u001b[0m \u001b[0mis_child\u001b[0m\u001b[1;33m:\u001b[0m\u001b[1;33m\u001b[0m\u001b[1;33m\u001b[0m\u001b[0m\n\u001b[0;32m    404\u001b[0m                 \u001b[1;31m# newlines imply flush in subprocesses\u001b[0m\u001b[1;33m\u001b[0m\u001b[1;33m\u001b[0m\u001b[1;33m\u001b[0m\u001b[0m\n",
      "\u001b[1;32m~\\Anaconda3\\lib\\site-packages\\ipykernel\\iostream.py\u001b[0m in \u001b[0;36mschedule\u001b[1;34m(self, f)\u001b[0m\n\u001b[0;32m    203\u001b[0m             \u001b[0mself\u001b[0m\u001b[1;33m.\u001b[0m\u001b[0m_events\u001b[0m\u001b[1;33m.\u001b[0m\u001b[0mappend\u001b[0m\u001b[1;33m(\u001b[0m\u001b[0mf\u001b[0m\u001b[1;33m)\u001b[0m\u001b[1;33m\u001b[0m\u001b[1;33m\u001b[0m\u001b[0m\n\u001b[0;32m    204\u001b[0m             \u001b[1;31m# wake event thread (message content is ignored)\u001b[0m\u001b[1;33m\u001b[0m\u001b[1;33m\u001b[0m\u001b[1;33m\u001b[0m\u001b[0m\n\u001b[1;32m--> 205\u001b[1;33m             \u001b[0mself\u001b[0m\u001b[1;33m.\u001b[0m\u001b[0m_event_pipe\u001b[0m\u001b[1;33m.\u001b[0m\u001b[0msend\u001b[0m\u001b[1;33m(\u001b[0m\u001b[1;34mb''\u001b[0m\u001b[1;33m)\u001b[0m\u001b[1;33m\u001b[0m\u001b[1;33m\u001b[0m\u001b[0m\n\u001b[0m\u001b[0;32m    206\u001b[0m         \u001b[1;32melse\u001b[0m\u001b[1;33m:\u001b[0m\u001b[1;33m\u001b[0m\u001b[1;33m\u001b[0m\u001b[0m\n\u001b[0;32m    207\u001b[0m             \u001b[0mf\u001b[0m\u001b[1;33m(\u001b[0m\u001b[1;33m)\u001b[0m\u001b[1;33m\u001b[0m\u001b[1;33m\u001b[0m\u001b[0m\n",
      "\u001b[1;32m~\\Anaconda3\\lib\\site-packages\\zmq\\sugar\\socket.py\u001b[0m in \u001b[0;36msend\u001b[1;34m(self, data, flags, copy, track, routing_id, group)\u001b[0m\n\u001b[0;32m    398\u001b[0m                                  copy_threshold=self.copy_threshold)\n\u001b[0;32m    399\u001b[0m             \u001b[0mdata\u001b[0m\u001b[1;33m.\u001b[0m\u001b[0mgroup\u001b[0m \u001b[1;33m=\u001b[0m \u001b[0mgroup\u001b[0m\u001b[1;33m\u001b[0m\u001b[1;33m\u001b[0m\u001b[0m\n\u001b[1;32m--> 400\u001b[1;33m         \u001b[1;32mreturn\u001b[0m \u001b[0msuper\u001b[0m\u001b[1;33m(\u001b[0m\u001b[0mSocket\u001b[0m\u001b[1;33m,\u001b[0m \u001b[0mself\u001b[0m\u001b[1;33m)\u001b[0m\u001b[1;33m.\u001b[0m\u001b[0msend\u001b[0m\u001b[1;33m(\u001b[0m\u001b[0mdata\u001b[0m\u001b[1;33m,\u001b[0m \u001b[0mflags\u001b[0m\u001b[1;33m=\u001b[0m\u001b[0mflags\u001b[0m\u001b[1;33m,\u001b[0m \u001b[0mcopy\u001b[0m\u001b[1;33m=\u001b[0m\u001b[0mcopy\u001b[0m\u001b[1;33m,\u001b[0m \u001b[0mtrack\u001b[0m\u001b[1;33m=\u001b[0m\u001b[0mtrack\u001b[0m\u001b[1;33m)\u001b[0m\u001b[1;33m\u001b[0m\u001b[1;33m\u001b[0m\u001b[0m\n\u001b[0m\u001b[0;32m    401\u001b[0m \u001b[1;33m\u001b[0m\u001b[0m\n\u001b[0;32m    402\u001b[0m     \u001b[1;32mdef\u001b[0m \u001b[0msend_multipart\u001b[0m\u001b[1;33m(\u001b[0m\u001b[0mself\u001b[0m\u001b[1;33m,\u001b[0m \u001b[0mmsg_parts\u001b[0m\u001b[1;33m,\u001b[0m \u001b[0mflags\u001b[0m\u001b[1;33m=\u001b[0m\u001b[1;36m0\u001b[0m\u001b[1;33m,\u001b[0m \u001b[0mcopy\u001b[0m\u001b[1;33m=\u001b[0m\u001b[1;32mTrue\u001b[0m\u001b[1;33m,\u001b[0m \u001b[0mtrack\u001b[0m\u001b[1;33m=\u001b[0m\u001b[1;32mFalse\u001b[0m\u001b[1;33m,\u001b[0m \u001b[1;33m**\u001b[0m\u001b[0mkwargs\u001b[0m\u001b[1;33m)\u001b[0m\u001b[1;33m:\u001b[0m\u001b[1;33m\u001b[0m\u001b[1;33m\u001b[0m\u001b[0m\n",
      "\u001b[1;32mzmq/backend/cython/socket.pyx\u001b[0m in \u001b[0;36mzmq.backend.cython.socket.Socket.send\u001b[1;34m()\u001b[0m\n",
      "\u001b[1;32mzmq/backend/cython/socket.pyx\u001b[0m in \u001b[0;36mzmq.backend.cython.socket.Socket.send\u001b[1;34m()\u001b[0m\n",
      "\u001b[1;32mzmq/backend/cython/socket.pyx\u001b[0m in \u001b[0;36mzmq.backend.cython.socket._send_copy\u001b[1;34m()\u001b[0m\n",
      "\u001b[1;32m~\\Anaconda3\\lib\\site-packages\\zmq\\backend\\cython\\checkrc.pxd\u001b[0m in \u001b[0;36mzmq.backend.cython.checkrc._check_rc\u001b[1;34m()\u001b[0m\n",
      "\u001b[1;31mKeyboardInterrupt\u001b[0m: "
     ]
    }
   ],
   "source": [
    "#3.1. Drawing 10.000 random wage rates from a uniform distribution in the interval (0.5, 1.5)\n",
    "np.random.seed(4600)\n",
    "Wage_draw = np.random.uniform(0.5,1.5,size=10000)\n",
    "\n",
    "\n",
    "def Total_tax(PopWageVector,e,v,t0,t1,k,m):\n",
    "\n",
    "    #3.2. Returning an array of individual tax payments\n",
    "    N=len(PopWageVector)\n",
    "    pop_taxes=np.zeros((N))\n",
    "\n",
    "    #3.2 For each wage rate, return the optimal labor supply by using the optimizer function\n",
    "    for i,w in enumerate(PopWageVector):\n",
    "        the_optimum=optimizer(w,e,v,t0,t1,k,m)\n",
    "        opt_labor=the_optimum[0]\n",
    "    \n",
    "        #3.2.1. Returning tax payment given the optimal labor supply\n",
    "        pop_taxes[i]=t0*w*opt_labor+t1*max(w*opt_labor-k,0)\n",
    "        \n",
    "    #3.3. Summating over all tax payments\n",
    "    Total_tax=sum(pop_taxes)\n",
    "    return Total_tax\n",
    "\n",
    "#3.4. Calling total tax revenue using the array of randomly drawn wages\n",
    "Total_tax0 = Total_tax(Wage_draw,e,v,t0,t1,k,m)\n",
    "print(f'The total tax revenue is {Total_tax0:.1f}')\n"
   ]
  },
  {
   "cell_type": "code",
   "execution_count": null,
   "metadata": {},
   "outputs": [],
   "source": [
    "The total tax revenue (e=0.4): 1851.1"
   ]
  },
  {
   "cell_type": "code",
   "execution_count": null,
   "metadata": {},
   "outputs": [],
   "source": [
    "\n",
    "# Question 4"
   ]
  },
  {
   "cell_type": "code",
   "execution_count": null,
   "metadata": {},
   "outputs": [],
   "source": [
    "#Changing the Frisch elasticity to 0.1 and watching the revenue rise as it is now more optimal to supply more labor for a given wage rate.  "
   ]
  },
  {
   "cell_type": "code",
   "execution_count": null,
   "metadata": {},
   "outputs": [],
   "source": [
    "#4.1. Defining new Frisch elasticity\n",
    "e_new = 0.1\n",
    "\n",
    "#4.2. Calling total tax revenue using the array of randomly drawn wages with the new Frisch elasticity\n",
    "Tax_new = Total_tax(Wage_draw,e_new,v,t0,t1,k,m)\n",
    "\n",
    "#4.3. Printing the result\n",
    "print(f'The total tax revenue is {Tax_new:.1f}')"
   ]
  },
  {
   "cell_type": "code",
   "execution_count": null,
   "metadata": {},
   "outputs": [],
   "source": [
    "The total tax revenue (e=0.1): 2068.0"
   ]
  },
  {
   "cell_type": "markdown",
   "execution_count": null,
   "metadata": {},
   "outputs": [],
   "source": [
    "# Question 5"
   ]
  },
  {
   "cell_type": "code",
   "execution_count": null,
   "metadata": {},
   "outputs": [],
   "source": [
    "# We define a new optimizer to the purpose of finding the tax rates and cutoff income that maximizes tax revenue."
   ]
  },
  {
   "cell_type": "code",
   "execution_count": null,
   "metadata": {},
   "outputs": [],
   "source": [
    "#5.1. Defining tax function to be optimized\n",
    "def tax_to_be_opt(taxes,Wages_pop,e,v,m):\n",
    "    \n",
    "    t0 = taxes[0]\n",
    "    t1 = taxes[1]\n",
    "    k = taxes[2]\n",
    "    return -Total_tax(Wages_pop,e,v,t0,t1,k,m)\n",
    "\n",
    "#5.2. Defining the 't_opt' function and finding the tax maximizing values of the vector 'taxes'.\n",
    "def t_opt(Wages_pop,e,v,m):\n",
    "  \n",
    "    # 5.2.1. Calling optimizer\n",
    "    initial_guess = [0.785,0.055,0.470]\n",
    "    sol = optimize.minimize(\n",
    "        tax_to_be_opt,\n",
    "        initial_guess,\n",
    "        method='Nelder-Mead',\n",
    "        args=(Wages_pop,e,v,m))\n",
    "    \n",
    "    [t0star,t1star,kstar] = sol.x\n",
    "\n",
    "    #5.2.2 Printing the solution   \n",
    "    print(f'Optimal lower tax rate is {t0star:.3f}')\n",
    "    print(f'Optimal upper tax rate is {t1star:.3f}')\n",
    "    print(f'Optimal k income is {kstar:.3f}')\n",
    "    \n",
    "    return t0star,t1star,kstar\n",
    "\n",
    "print('Optimal taxes and estimated total tax revenue')\n",
    "t0star,t1star,kstar=t_opt(Wage_draw,e,v,m)\n",
    "Total_tax_pop = Total_tax(Wage_draw,e,v,t0star,t1star,kstar,m)\n",
    "print(f'Estimated total tax revenue is {Total_tax_pop:.2f}')\n",
    "\n"
   ]
  },
  {
   "cell_type": "code",
   "execution_count": null,
   "metadata": {},
   "outputs": [],
   "source": [
    "#Optimal taxes and estimated total tax revenue\n",
    "#Optimal lower tax rate: 0.785\n",
    "#Optimal upper tax rate: 0.054\n",
    "#Optimal cutoff income: 0.531\n",
    "#Total tax revenue under optimal tax rates: 2463.04\n"
   ]
  },
  {
   "cell_type": "code",
   "execution_count": null,
   "metadata": {},
   "outputs": [],
   "source": [
    "# Conclusion"
   ]
  },
  {
   "cell_type": "code",
   "execution_count": 154,
   "metadata": {},
   "outputs": [
    {
     "ename": "SyntaxError",
     "evalue": "invalid syntax (<ipython-input-154-d17440d7d404>, line 2)",
     "output_type": "error",
     "traceback": [
      "\u001b[1;36m  File \u001b[1;32m\"<ipython-input-154-d17440d7d404>\"\u001b[1;36m, line \u001b[1;32m2\u001b[0m\n\u001b[1;33m    In this assignment we have found the optimal consumption and labor supply given certain parameter values, tax levels and wages, including the fact that both consumption and labour supply is increasing in the level of wages. In regards to the tax revenue we find that it is decreasing in the Frisch elasticity of labour supply since the revenue is larger in (4) than (3). In (5) we find that is is possible for the politician to increase the lower tax rate substantially, while the upper taxrate should be decreased in order to maximize the tax revenue.\u001b[0m\n\u001b[1;37m          ^\u001b[0m\n\u001b[1;31mSyntaxError\u001b[0m\u001b[1;31m:\u001b[0m invalid syntax\n"
     ]
    }
   ],
   "source": [
    "\n",
    "#In this assignment we have found the optimal consumption and labor supply given certain parameter values, tax levels and wages, including the fact that both consumption and labour supply is increasing in the level of wages. In regards to the tax revenue we find that it is decreasing in the Frisch elasticity of labour supply since the revenue is larger in (4) than (3). In (5) we find that is is possible for the politician to increase the lower tax rate substantially, while the upper taxrate should be decreased in order to maximize the tax revenue."
   ]
  },
  {
   "cell_type": "code",
   "execution_count": null,
   "metadata": {},
   "outputs": [],
   "source": []
  }
 ],
 "metadata": {
  "kernelspec": {
   "display_name": "Python 3",
   "language": "python",
   "name": "python3"
  },
  "language_info": {
   "codemirror_mode": {
    "name": "ipython",
    "version": 3
   },
   "file_extension": ".py",
   "mimetype": "text/x-python",
   "name": "python",
   "nbconvert_exporter": "python",
   "pygments_lexer": "ipython3",
   "version": "3.7.4-final"
  },
  "toc-autonumbering": true
 },
 "nbformat": 4,
 "nbformat_minor": 4
}