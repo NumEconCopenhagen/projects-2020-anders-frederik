{
 "cells": [
  {
   "cell_type": "markdown",
   "metadata": {},
   "source": [
    "Inaugural project\n",
    "\n",
    "Group: Anders&Frederik\n",
    "\n",
    "Group members: Frederik Andresen, rjv586. Anders Meelby, zpw586."
   ]
  },
  {
   "cell_type": "markdown",
   "metadata": {},
   "source": [
    "Question 1\n",
    "\n",
    "We first assign the parameters their values and define the utility function and the budget constraint. "
   ]
  },
  {
   "cell_type": "code",
   "execution_count": null,
   "metadata": {},
   "outputs": [],
   "source": [
    "import numpy as np\n",
    "from scipy import optimize\n",
    "# autoreload modules when c\"\"\"  \"\"\"ode is run\n",
    "%load_ext autoreload\n",
    "%autoreload 2"
   ]
  },
  {
   "cell_type": "code",
   "execution_count": null,
   "metadata": {},
   "outputs": [],
   "source": [
    "\n",
    "#1.1. Defining globals\n",
    "m  = 1 #cash-on-hand\n",
    "v  = 10 #scales the disutility of labor\n",
    "e  = 0.3 #Frisch elasticity of labor supply\n",
    "k  = 0.4 #cut-off for the top labor income bracket\n",
    "t0 = 0.4 #standard labor income tax\n",
    "t1 = 0.1 #top bracket labor income tax\n",
    "w  = 1 #wage is assumed exogenous for now\n",
    "\n",
    "#1.2. Defining utility\n",
    "def utility(l,c,e,v):\n",
    "    u = np.log(c) - v*l**(1 + 1/e)/(1 + 1/e)\n",
    "    return u\n",
    "\n",
    "#1.3. Defining budget constraint\n",
    "def bc(m,w,l,t0,t1,k):\n",
    "    budget = m + w*l - w*l*t0 - t1*max((w*l - k),0)\n",
    "    return budget"
   ]
  },
  {
   "cell_type": "markdown",
   "metadata": {},
   "source": [
    "We then define the budget constraint where we substitute c* into x using that c* = x. The objective function \"utility\" returns the negative value of the utility given a level of consumption- and a labor supply. This function returns a negative function as scipy optimize.minimize_scalar minimizes why minimizing a negative function is equivalent to maximizing. "
   ]
  },
  {
   "cell_type": "code",
   "execution_count": null,
   "metadata": {},
   "outputs": [],
   "source": [
    "#1.4. Substituting c into budget constraint as c*=x; creating a function l*(l)\n",
    "def c_sub(l,w,e,v,t0,t1,k):\n",
    "    c = bc(m,w,l,t0,t1,k)\n",
    "    return -utility(l,c,e,v)"
   ]
  },
  {
   "cell_type": "markdown",
   "metadata": {},
   "source": [
    "We then define out optimiser \"opt\" using scipy optimize; the function \"opt\" uses c as a function of l to  maximize labor supply given the parameter values using the bounds of (0,1) to the labor supply. The function returns a list of optimal labour supply values from the parameters (floats). \n",
    "#Subsequently, we plug the optimal labor supply into the budget constraint to determine the optimal consumption. Ultimally, we plug the optimal labor supply and -consumption into the \"utility\" to obtain the maximized level of utility. "
   ]
  },
  {
   "cell_type": "code",
   "execution_count": null,
   "metadata": {},
   "outputs": [],
   "source": [
    "#1.5. Finding the l that optimizes l*\n",
    "def optimizer(w,e,v,t0,t1,k,m):\n",
    "    sol = optimize.minimize_scalar(\n",
    "        c_sub, method = 'bounded',\n",
    "        bounds=(0,1), \n",
    "        args = (w,e,v,t0,t1,k))\n",
    "\n",
    "    lstar = sol.x\n",
    "    cstar = bc(m,w,lstar,t0,t1,k)\n",
    "    ustar = utility(lstar,cstar,e,v)\n",
    "\n",
    "    return [lstar,cstar,ustar]"
   ]
  },
  {
   "cell_type": "markdown",
   "metadata": {},
   "source": [
    "This function solves the consumer maximization problem."
   ]
  },
  {
   "cell_type": "markdown",
   "metadata": {},
   "source": [
    "Question 2\n",
    "\n",
    "We plot the optimal labor supply and -consumption as functions of the wage rate. Consequently, we import pyplot from matplotlib. We create a vector of 10.000 evenly spaced wage rates of a specificed interval between 0.5 and 1.5 using np.linspace. For each of these vector values, we need an optimal level of labor supply and -consumption. Accordingly, we use a for-loop with enumerate to create such values into two vectors; one for optimal labor supply and one for optimal consumption. Lastly, we create a plot using the wage rate vector and the two vectors of optimal labor supply and -consumption."
   ]
  },
  {
   "cell_type": "code",
   "execution_count": null,
   "metadata": {},
   "outputs": [],
   "source": [
    "import matplotlib.pyplot as plt\n",
    "import random\n",
    "plt.style.use('seaborn-poster')\n",
    "\n",
    "np.random.seed(7)\n",
    "\n",
    "#2.1. Defining population size and storage vectors\n",
    "N = 10000\n",
    "w_vec = np.linspace(0.5, 1.5, N)\n",
    "l_vec = np.empty(N)\n",
    "c_vec = np.empty(N)\n",
    "\n",
    "#2.2. For every i in w_i, we get l_i* and c_i*\n",
    "for i,w in enumerate(w_vec):\n",
    "    cord = optimizer(w, e, v, t0, t1, k, m)\n",
    "    l_vec[i] = cord[0]\n",
    "    c_vec[i] = cord[1]\n",
    "\n",
    "#2.3. Choosing figure size\n",
    "fig = plt.figure(figsize=(12,5))\n",
    "\n",
    "#2.3.1 Plotting optimal labor supply again wage using the defined vectors\n",
    "ax_left = fig.add_subplot(1,2,1)\n",
    "ax_left.plot(w_vec,l_vec)\n",
    "\n",
    "ax_left.set_title('Optimal labour supply given wage')\n",
    "ax_left.set_xlabel('$w$')\n",
    "ax_left.set_ylabel('$l^\\star$')\n",
    "ax_left.grid(True)\n",
    "\n",
    "#2.3.2. Plotting optimal consumption again wage using the defined vectors\n",
    "ax_right = fig.add_subplot(1,2,2)\n",
    "\n",
    "ax_right.plot(w_vec,c_vec)\n",
    "\n",
    "ax_right.set_title('Optimal consumption given wage')\n",
    "ax_right.set_xlabel('$w$')\n",
    "ax_right.set_ylabel('$c^\\star$')\n",
    "ax_right.grid(True)\n",
    "\n",
    "plt.show\n"
   ]
  },
  {
   "cell_type": "markdown",
   "metadata": {},
   "source": [
    "We see that a labor supply is increasing but with a diminising rate as the agent values leisure more with a higher wage. Consumption, however, is increasing linearly such that a higher wage result in an approximately 1:1 increase in consumption."
   ]
  },
  {
   "cell_type": "markdown",
   "metadata": {},
   "source": [
    "Question 3\n",
    "\n",
    "We calculate the total tax revenue. However, firstly, we need to draw a vector of invidual wages: $w_i ~ U((0.5), (1.5))$ with a population of 10.000. From this distribution, we would need the optimal labor supply and consumption per individual, $i$. We apply the optimizer-function \"opt\" to return the tax payment for each indiviual given the optimal labor supply and -consumption. "
   ]
  },
  {
   "cell_type": "code",
   "execution_count": null,
   "metadata": {},
   "outputs": [],
   "source": [
    "\n",
    "#3.1. Drawing 10.000 random wage rates from a uniform distribution in the interval (0.5, 1.5)\n",
    "np.random.seed(4600)\n",
    "Wage_draw = np.random.uniform(0.5,1.5,size=10000)\n",
    "\n",
    "\n",
    "def Total_tax(PopWageVector,e,v,t0,t1,k,m):\n",
    "\n",
    "    #3.2. Returning an array of individual tax payments\n",
    "    N=len(PopWageVector)\n",
    "    pop_taxes=np.zeros((N))\n",
    "\n",
    "    #3.2 For each wage rate, return the optimal labor supply by using the optimizer function\n",
    "    for i,w in enumerate(PopWageVector):\n",
    "        the_optimum=optimizer(w,e,v,t0,t1,k,m)\n",
    "        opt_labor=the_optimum[0]\n",
    "    \n",
    "        #3.2.1. Returning tax payment given the optimal labor supply\n",
    "        pop_taxes[i]=t0*w*opt_labor+t1*max(w*opt_labor-k,0)\n",
    "        \n",
    "    #3.3. Summating over all tax payments\n",
    "    Total_tax=sum(pop_taxes)\n",
    "    return Total_tax\n",
    "\n",
    "#3.4. Calling total tax revenue using the array of randomly drawn wages\n",
    "Total_tax0 = Total_tax(Wage_draw,e,v,t0,t1,k,m)\n",
    "print(f'The total tax revenue is {Total_tax0:.1f}')\n"
   ]
  },
  {
   "cell_type": "markdown",
   "metadata": {},
   "source": []
  },
  {
   "cell_type": "markdown",
   "metadata": {},
   "source": [
    "Question 4\n",
    "\n",
    "Changing the Frisch elasticity to 0.1 and watching the revenue rise as it is now more optimal to supply more labor for a given wage rate. "
   ]
  },
  {
   "cell_type": "code",
   "execution_count": null,
   "metadata": {},
   "outputs": [],
   "source": [
    "\n",
    "#4.1. Defining new Frisch elasticity\n",
    "e_new = 0.1\n",
    "\n",
    "#4.2. Calling total tax revenue using the array of randomly drawn wages with the new Frisch elasticity\n",
    "Tax_new = Total_tax(Wage_draw,e_new,v,t0,t1,k,m)\n",
    "\n",
    "#4.3. Printing the result\n",
    "print(f'The total tax revenue is {Tax_new:.1f}')\n",
    "\n"
   ]
  },
  {
   "cell_type": "markdown",
   "metadata": {},
   "source": [
    "Question 5\n",
    "\n",
    "We define a new optimizer to the purpose of finding the tax rates and cutoff income that maximizes tax revenue."
   ]
  },
  {
   "cell_type": "code",
   "execution_count": null,
   "metadata": {},
   "outputs": [],
   "source": [
    "#5.1. Defining tax function to be optimized\n",
    "def tax_to_be_opt(taxes,Wages_pop,e,v,m):\n",
    "    \n",
    "    t0 = taxes[0]\n",
    "    t1 = taxes[1]\n",
    "    k = taxes[2]\n",
    "    return -Total_tax(Wages_pop,e,v,t0,t1,k,m)\n",
    "\n",
    "#5.2. Defining the 't_opt' function and finding the tax maximizing values of the vector 'taxes'.\n",
    "def t_opt(Wages_pop,e,v,m):\n",
    "  \n",
    "    # 5.2.1. Calling optimizer\n",
    "    initial_guess = [0.785,0.055,0.470]\n",
    "    sol = optimize.minimize(\n",
    "        tax_to_be_opt,\n",
    "        initial_guess,\n",
    "        method='Nelder-Mead',\n",
    "        args=(Wages_pop,e,v,m))\n",
    "    \n",
    "    [t0star,t1star,kstar] = sol.x\n",
    "\n",
    "    #5.2.2 Printing the solution   \n",
    "    print(f'Optimal lower tax rate is {t0star:.3f}')\n",
    "    print(f'Optimal upper tax rate is {t1star:.3f}')\n",
    "    print(f'Optimal k income is {kstar:.3f}')\n",
    "    \n",
    "    return t0star,t1star,kstar\n",
    "\n",
    "print('Optimal taxes and estimated total tax revenue')\n",
    "t0star,t1star,kstar=t_opt(Wage_draw,e,v,m)\n",
    "Total_tax_pop = Total_tax(Wage_draw,e,v,t0star,t1star,kstar,m)\n",
    "print(f'Estimated total tax revenue is {Total_tax_pop:.2f}')\n"
   ]
  },
  {
   "cell_type": "markdown",
   "metadata": {},
   "source": [
    "Conclusion\n",
    "\n",
    "In this assignment we have found the optimal consumption and labor supply given certain parameter values, tax levels and wages, including the fact that both consumption and labour supply is increasing in the level of wages. In regards to the tax revenue we find that it is decreasing in the Frisch elasticity of labour supply since the revenue is larger in (4) than (3). In (5) we find that is is possible for the politician to increase the lower tax rate substantially, while the upper taxrate should be decreased in order to maximize the tax revenue."
   ]
  }
 ],
 "metadata": {
  "kernelspec": {
   "display_name": "Python 3",
   "language": "python",
   "name": "python3"
  },
  "language_info": {
   "codemirror_mode": {
    "name": "ipython",
    "version": 3
   },
   "file_extension": ".py",
   "mimetype": "text/x-python",
   "name": "python",
   "nbconvert_exporter": "python",
   "pygments_lexer": "ipython3",
   "version": "3.7.4"
  }
 },
 "nbformat": 4,
 "nbformat_minor": 4
}
