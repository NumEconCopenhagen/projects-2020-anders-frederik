{
 "cells": [
  {
   "cell_type": "code",
   "execution_count": 69,
   "metadata": {},
   "outputs": [],
   "source": [
  "text/plain": "' Inaugural Project \n'"
   ]
  },
  {
   "cell_type": "code",
   "execution_count": 70,
   "metadata": {},
   "outputs": [
    {
     "data": {
      "text/plain": "' Group: Anders&Frederik\\n\\nGroup members: Frederik Andresen, rjv586. Anders Meelby, zpw586.\\n\\n'"
     },
     "execution_count": 70,
     "metadata": {},
     "output_type": "execute_result"
    }
   ],
   "source": [
    "\"\"\" Group: Anders&Frederik\n",
    "\n",
    "Group members: Frederik Andresen, rjv586. Anders Meelby, zpw586.\n",
    "\n",
    "\"\"\""
   ]
  },
  {
   "cell_type": "code",
   "execution_count": 71,
   "metadata": {},
   "outputs": [
    {
     "name": "stdout",
     "output_type": "stream",
     "text": "The autoreload extension is already loaded. To reload it, use:\n  %reload_ext autoreload\n"
    }
   ],
   "source": [
    "import numpy as np\n",
    "from scipy import optimize\n",
    "# autoreload modules when c\"\"\"  \"\"\"ode is run\n",
    "%load_ext autoreload\n",
    "%autoreload 2\n"
   ]
  },
  {
   "cell_type": "markdown",
   "execution_count": null,
   "metadata": {
    "toc-hr-collapsed": true
   },
   "outputs": [],
   "source": [
    "# Question 1"
   ]
  },
  {
   "cell_type": "code",
   "execution_count": 72,
   "metadata": {},
   "outputs": [
    {
     "ename": "SyntaxError",
     "evalue": "invalid syntax (<ipython-input-72-95624b2e390a>, line 1)",
     "output_type": "error",
     "traceback": [
      "\u001b[1;36m  File \u001b[1;32m\"<ipython-input-72-95624b2e390a>\"\u001b[1;36m, line \u001b[1;32m1\u001b[0m\n\u001b[1;33m    We first assign the parameters their values and define the utility function and the budget constraint.\u001b[0m\n\u001b[1;37m           ^\u001b[0m\n\u001b[1;31mSyntaxError\u001b[0m\u001b[1;31m:\u001b[0m invalid syntax\n"
     ]
    }
   ],
   "source": [
    "\"\"\" We first assign the parameters their values and define the utility function and the budget constraint.  \"\"\""
   ]
  },
  {
   "cell_type": "code",
   "execution_count": null,
   "metadata": {},
   "outputs": [],
   "source": [
    "#Defining globals\n",
    "m  = 1 #cash-on-hand\n",
    "v  = 10 #scales the disutility of labor\n",
    "e  = 0.3 #Frisch elasticity of labor supply\n",
    "k  = 0.4 #cut-off for the top labor income bracket\n",
    "t0 = 0.4 #standard labor income tax\n",
    "t1 = 0.1 #top bracket labor income tax\n",
    "w  = 1 #wage is assumed exogenous for now\n",
    "\n",
    "#Defining utility\n",
    "def utility(c, l,  v , e):\n",
    "    u = np.log(c) - v*(l**(1+(1/e)))/(1+(1/e))\n",
    "    return u\n",
    "\n",
    "#Defining budget constraint\n",
    "def bc(l, w, m, t0, t1, k):\n",
    "    x = m + w*l - (t0*w *l + t1*max(w*l - k, 0))\n",
    "    return x"
   ]
  },
  {
   "cell_type": "code",
   "execution_count": null,
   "metadata": {},
   "outputs": [],
   "source": [
    "\"\"\" We then define the budget constraint where we substitute c* into x using that c* = x. The objective function \"utility\" returns the negative value of the utility given a level of consumption- and a labor supply. This function returns a negative function as scipy optimize.minimize_scalar minimizes why minimizing a negative function is equivalent to maximizing. \"\"\""
   ]
  },
  {
   "cell_type": "code",
   "execution_count": null,
   "metadata": {},
   "outputs": [],
   "source": [
    "#Substituting c into budget constraint as c*=x; creating a function l*(l)\n",
    "def c_sub(l, w, m, v, e, t0, t1, k):\n",
    "    c = bc(l = l, w = w, m = m, t0 = t0, t1 = t1, k = k)\n",
    "    return -utility(c = c, l = l,  v = v , e = e) \n"
   ]
  },
  {
   "cell_type": "code",
   "execution_count": null,
   "metadata": {},
   "outputs": [],
   "source": [
    "\"\"\" We then define out optimiser \"opt\" using scipy optimize; the function \"opt\" uses c as a function of l to  maximize labor supply given the parameter values using the bounds of (0,1) to the labor supply. The function returns a list of optimal labour supply values from the parameters (floats). \n",
    "Subsequently, we plug the optimal labor supply into the budget constraint to determine the optimal consumption. Ultimally, we plug the optimal labor supply and -consumption into the \"utility\" to obtain the maximized level of utility. \"\"\"\n"
   ]
  },
  {
   "cell_type": "code",
   "execution_count": null,
   "metadata": {},
   "outputs": [],
   "source": [
    "#Finding the l that optimizes l*\n",
    "def opt(w, m, v, e, t0, t1, k):\n",
    "    sol = optimize.minimize_scalar (\n",
    "        c_sub, \n",
    "        method = 'bounded', \n",
    "        bounds   = (0, 1), \n",
    "        args     = (w, m, v, e, t0, t1, k) )\n",
    "    l_opt = sol.x\n",
    "    c_opt = bc(l = l_opt, w = w, m = m, t0 = t0, t1 = t1, k = k) #Plutting l* in to bc\n",
    "    u_opt = utility(c = c_opt, l = l_opt,  v = v , e = e) #Plugging l* and c* into u\n",
    "    return l_opt, c_opt, u_opt\n",
    "\n",
    "l_opt, c_opt, u_opt = opt(w, m, v, e, t0, t1, k)\n",
    "\n",
    "#Printing the optimal values of labor supply, consumption and utility using a wage rate of 1\n",
    "print(f'Optimal labor supply (w=1): {l_opt:.3f}')\n",
    "print(f'Optimal consumption (w=1): {c_opt:.3f}')\n",
    "print(f'Optimal utility  (w=1): {u_opt:.3f}')\n"
   ]
  },
  {
   "cell_type": "code",
   "execution_count": null,
   "metadata": {},
   "outputs": [],
   "source": [
    "Optimal labor supply (w=1): 0.400\n",
    "Optimal consumption (w=1): 1.240\n",
    "Optimal utility  (w=1): 0.172"
   ]
  },
  {
   "cell_type": "markdown",
   "execution_count": null,
   "metadata": {},
   "outputs": [],
   "source": [
    "# Question 2"
   ]
  },
  {
   "cell_type": "code",
   "execution_count": null,
   "metadata": {},
   "outputs": [],
   "source": [
    "\"\"\" We plot the optimal labor supply and -consumption as functions of the wage rate. Consequently, we import pyplot from matplotlib. We create a vector of 10.000 evenly spaced wage rates of a specificed interval between 0.5 and 1.5 using np.linspace. For each of these vector values, we need an optimal level of labor supply and -consumption. Accordingly, we use a for-loop with enumerate to create such values into two vectors; one for optimal labor supply and one for optimal consumption. Lastly, we create a plot using the wage rate vector and the two vectors of optimal labor supply and -consumption.  \"\"\""
   ]
  },
  {
   "cell_type": "code",
   "execution_count": null,
   "metadata": {},
   "outputs": [],
   "source": [
    "import matplotlib.pyplot as plt\n",
    "import random\n",
    "plt.style.use('seaborn-poster')\n",
    "\n",
    "np.random.seed(7)\n",
    "\n",
    "#Defining population size and storage vectors\n",
    "N = 10000\n",
    "w_vec = np.linspace(0.5, 1.5, N)\n",
    "l_vec = np.empty(N)\n",
    "c_vec = np.empty(N)\n",
    "\n",
    "#For every i in w_i, we get l_i* and c_i*\n",
    "for i,w in enumerate(w_vec):\n",
    "    cord = opt(w, e, v, t0, t1, k, m)\n",
    "    l_vec[i] = cord[0]\n",
    "    c_vec[i] = cord[1]\n",
    "\n",
    "#Choosing figure size\n",
    "fig = plt.figure(figsize=(12,5))\n",
    "\n",
    "#Plotting optimal labor supply again wage using the defined vectors\n",
    "ax_left = fig.add_subplot(1,2,1)\n",
    "ax_left.plot(w_vec,l_vec)\n",
    "\n",
    "ax_left.set_title('Optimal labour supply given wage')\n",
    "ax_left.set_xlabel('$w$')\n",
    "ax_left.set_ylabel('$l^\\star$')\n",
    "ax_left.grid(True)\n",
    "\n",
    "#Plotting optimal consumption again wage using the defined vectors\n",
    "ax_right = fig.add_subplot(1,2,2)\n",
    "\n",
    "ax_right.plot(w_vec,c_vec)\n",
    "\n",
    "ax_right.set_title('Optimal consumption given wage')\n",
    "ax_right.set_xlabel('$w$')\n",
    "ax_right.set_ylabel('$c^\\star$')\n",
    "ax_right.grid(True)\n",
    "\n",
    "plt.show \n"
   ]
  },
  {
   "cell_type": "code",
   "execution_count": null,
   "metadata": {},
   "outputs": [],
   "source": [
    "\"\"\" We see that a labor supply is increasing but with a diminising rate as the agent values leisure more with a higher wage. Consumption, however, is increasing linearly such that a higher wage result in an approximately 1:1 increase in consumption. \"\"\""
   ]
  },
  {
   "cell_type": "code",
   "execution_count": null,
   "metadata": {},
   "outputs": [],
   "source": [
    "\"\"\" We calculate the total tax revenue. However, firstly, we need to draw a vector of invidual wages: $w_i ~ U((0.5), (1.5))$ with a population of 10.000. From this distribution, we would need the optimal labor supply and consumption per individual, $i$. We apply the optimizer-function \"opt\" to return the tax payment for each indiviual given the optimal labor supply and -consumption. \n",
    " \"\"\""
   ]
  },
  {
   "cell_type": "code",
   "execution_count": null,
   "metadata": {},
   "outputs": [],
   "source": [
    "#Drawing 10.000 random wage rates from a uniform distribution in the interval (0.5, 1.5)\n",
    "Pop_wage_draw = np.random.uniform(0.5,1.5,size=10000)\n",
    "\n",
    "#Returning an array of individual tax payments\n",
    "def Tot_tax(Pop_wage_vec,e,v,t0,t1,k,m):\n",
    "    N=len(Pop_wage_vec)\n",
    "    Pop_ini_tax=np.zeros(N)\n",
    "\n",
    "#For each wage rate, return the optimal labor supply by using the optimizer function\n",
    "    for i,w in enumerate(Pop_wage_vec):\n",
    "        Q3_opt=opt(w,e,v,t0,t1,k,m)\n",
    "        Opt_lab_q3=Q3_opt[0]\n",
    "        \n",
    "#Returning tax payment given the optimal labor supply\n",
    "        Pop_ini_tax[i]=t0*w*Opt_lab_q3+t1*max(w*Opt_lab_q3-k,0)\n",
    "    \n",
    "#Summating over all tax payments\n",
    "    Tot1=sum(Pop_ini_tax)\n",
    "    return Tot1\n",
    "\n",
    "#Calling total tax revenue using the array of randomly drawn wages\n",
    "revenue = Tot_tax(Pop_wage_draw,e,v,t0,t1,k,m)\n",
    "#Printing the result\n",
    "print(f'The total tax revenue: {revenue:.1f}')\n"
   ]
  },
  {
   "cell_type": "code",
   "execution_count": null,
   "metadata": {},
   "outputs": [],
   "source": [
    "The total tax revenue (e=0.4): 1851.1"
   ]
  },
  {
   "cell_type": "markdown",
   "execution_count": null,
   "metadata": {},
   "outputs": [],
   "source": [
    "# Question 4"
   ]
  },
  {
   "cell_type": "code",
   "execution_count": null,
   "metadata": {},
   "outputs": [],
   "source": [
    "\"\"\" Changing the Frisch elasticity to 0.1 and watching the revenue rise as it is now more optimal to supply more labor for a given wage rate.  \"\"\""
   ]
  },
  {
   "cell_type": "code",
   "execution_count": null,
   "metadata": {},
   "outputs": [],
   "source": [
    "#Defining new Frisch elasticity\n",
    "e_new=0.1\n",
    "\n",
    "#Calling total tax revenue using the array of randomly drawn wages with the new Frisch elasticity\n",
    "revenue2 = Tot_tax(Pop_wage_vec,e_new,v,t0,t1,k,m)\n",
    "\n",
    "#Printing the result\n",
    "print(f'Tax revenue (e=0.1): {revenue2:.3f}')"
   ]
  },
  {
   "cell_type": "code",
   "execution_count": null,
   "metadata": {},
   "outputs": [],
   "source": [
    "The total tax revenue (e=0.1): 2068.0"
   ]
  },
  {
   "cell_type": "markdown",
   "execution_count": null,
   "metadata": {},
   "outputs": [],
   "source": [
    "# Question 5"
   ]
  },
  {
   "cell_type": "code",
   "execution_count": null,
   "metadata": {},
   "outputs": [],
   "source": [
    "\"\"\" We define a new optimizer to the purpose of finding the tax rates and cutoff income that maximizes tax revenue. \"\"\""
   ]
  },
  {
   "cell_type": "code",
   "execution_count": null,
   "metadata": {},
   "outputs": [],
   "source": [
    " #Defining tax function to be optimized\n",
    "def tax_to_be_opt(taxes, Population_wage, e, v, m):\n",
    "    \n",
    "    t0 = taxes[0]\n",
    "    t1 = taxes[1]\n",
    "    k = taxes[2]\n",
    "    return -Taxesss(Population_wage, e, v, t0, t1, k, m)\n",
    "\n",
    " #Calling optimizer\n",
    "def tax_optimizer(Population_wage, e, v, m):\n",
    "    #Setting initial guess equal to result to lower process time\n",
    "    initial_guess = [0.785, 0.054, 0.531] \n",
    "    sol = optimize.minimize(\n",
    "        tax_to_be_opt,\n",
    "        initial_guess,\n",
    "        method='Nelder-Mead',\n",
    "        args=(Population_wage, e, v, m))\n",
    "\n",
    "    t0_opt = sol.x[0]\n",
    "    t1_opt = sol.x[1]\n",
    "    k_opt = sol.x[2]\n",
    "\n",
    "    print(f'Optimal lower tax rate: {t0_opt:.3f}')\n",
    "    print(f'Optimal upper tax rate: {t1_opt:.3f}')\n",
    "    print(f'Optimal k income is {k_opt:.3f}')\n",
    "    \n",
    "    return[t0_opt, t1_opt, k_opt]\n",
    "\n",
    "t0_opt, t1_opt, k_opt = tax_optimizer(Pop_wage_draw, e, v, m)\n",
    "\n",
    "#Printing maximized tax revenue\n",
    "Revenue_3 = Taxesss(Pop_wage_draw, e, v, t0_opt, t1_opt, k_opt, m)\n",
    "print(f'Estimated total tax revenue: {Revenue_3:.2f}')\n",
    "\n"
   ]
  },
  {
   "cell_type": "code",
   "execution_count": null,
   "metadata": {},
   "outputs": [],
   "source": [
    "Optimal taxes and estimated total tax revenue\n",
    "Optimal lower tax rate: 0.785\n",
    "Optimal upper tax rate: 0.054\n",
    "Optimal cutoff income: 0.531\n",
    "Total tax revenue under optimal tax rates: 2463.04\n"
   ]
  },
  {
   "cell_type": "code",
   "execution_count": null,
   "metadata": {},
   "outputs": [],
   "source": [
    "# Conclusion"
   ]
  },
  {
   "cell_type": "markdown",
   "execution_count": null,
   "metadata": {},
   "outputs": [],
   "source": [
    "In this assignment we have found the optimal consumption and labor supply given certain parameter values, tax levels and wages, including the fact that both consumption and labour supply is increasing in the level of wages. In regards to the tax revenue we find that it is decreasing in the Frisch elasticity of labour supply since the revenue is larger in (4) than (3). In (5) we find that is is possible for the politician to increase the lower tax rate substantially, while the upper taxrate should be decreased in order to maximize the tax revenue."
   ]
  }
 ],
 "metadata": {
  "kernelspec": {
   "display_name": "Python 3",
   "language": "python",
   "name": "python3"
  },
  "language_info": {
   "codemirror_mode": {
    "name": "ipython",
    "version": 3
   },
   "file_extension": ".py",
   "mimetype": "text/x-python",
   "name": "python",
   "nbconvert_exporter": "python",
   "pygments_lexer": "ipython3",
   "version": "3.7.4-final"
  },
  "toc-autonumbering": true
 },
 "nbformat": 4,
 "nbformat_minor": 4
}
