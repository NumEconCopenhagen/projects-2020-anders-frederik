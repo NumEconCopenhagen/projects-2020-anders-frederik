{
 "cells": [
  {
   "cell_type": "markdown",
   "metadata": {},
   "source": [
    "# A Cournot competition model with product differentiation\n",
    "## Model Project\n",
    "### Group: Anders&Frederik    \n",
    "#### Group members: Frederik Andresen, rjv586. Anders Meelby, zpw586.\n",
    "\n",
    "\n",
    "\n",
    "**The model**    \n",
    "Consider two firms who compete in the same market i.e. a duopoly. The market is characterized by Cournot competetion:    \n",
    "\n",
    "- The firms are competing in quantities they produce; \n",
    "- The firms decide the quantities independently of each other and simultaneously;\n",
    "- The firms do not coorperate (no collusion); \n",
    "- The firms have market power why each firm's output decision affects each firm's the price;\n",
    "- The firms are economically rational and act strategically to maximize their profit given their competitors' decisions. "
   ]
  },
  {
   "cell_type": "markdown",
   "metadata": {},
   "source": [
    "**Demand/price**   \n",
    "\n",
    "We define the inverse demand (price) for firm $i$ in such a market:   \n",
    "$p_i=p(x_i+x_j)=1-x_i+b\\cdot x_j,$ for each $i\\neq j \\in \\{1,2\\}$   \n",
    "where $x_1$ is production by firm 1, $x_2$ is production by firm 2, and $b$ is a positive constant determining the elasticity of substitution between the goods. Letting $b=1$ makes the goods perfect substitutes and $b<1$ makes the goods differentiated."
   ]
  },
  {
   "cell_type": "code",
   "execution_count": 6,
   "metadata": {},
   "outputs": [],
   "source": [
    "def demand(x1,x2,b):\n",
    "    return 1-x1-b*x2"
   ]
  },
  {
   "cell_type": "markdown",
   "metadata": {},
   "source": [
    "**Cost**   \n",
    "Both firms have the cost functions, $C(x_i)=cx_i$ for $i=1,2$ such that the marginal costs are constant, $\\dfrac{\\partial C(x_i)}{\\partial x_i}=c_i$. "
   ]
  },
  {
   "cell_type": "code",
   "execution_count": 7,
   "metadata": {},
   "outputs": [],
   "source": [
    "def cost(x,c):\n",
    "    if x == 0:\n",
    "     cost = 0\n",
    "    else:\n",
    "     cost = c*x\n",
    "    return cost "
   ]
  },
  {
   "cell_type": "markdown",
   "metadata": {},
   "source": [
    "**Profit**    \n",
    "The profit of firm $i$ can be stated as the following:   \n",
    "$\\pi_i(x_i,x_j) = p_i(x_i,x_j)x_i-C(x_i)$   for each $i\\neq j \\in \\{1,2\\}$"
   ]
  },
  {
   "cell_type": "code",
   "execution_count": 8,
   "metadata": {},
   "outputs": [],
   "source": [
    "def profit(x1,x2,c1,b):\n",
    "    return demand(x1,x2,b)*x1 - cost(x1,c1)"
   ]
  },
  {
   "cell_type": "markdown",
   "metadata": {},
   "source": [
    "**Best response**   \n",
    "Firm $i$ chooses its quantity, $x_i$, as to maximize profits, taking $x_j$ as given. $(x_i^*,x_j^*)$ is therefore a Nash equillibrium if   \n",
    "\n",
    "$x_i^*=\\underset{x_i}{\\operatorname{arg max \\pi_i(x_i,x_j^*)}}$ for each $i\\neq j \\in{1,2}$\n",
    "    \n",
    "If the profit is concave in output, the Nash equillibrium $(x_i^*,x_j^*)$ is the solution to    \n",
    "$\\frac{\\partial \\pi_i(x_i,x_j}{\\partial x_i}|_{x_i=x_i^*,x_j=x_j^*} = 0$. \n",
    "Isolating the profit maximizing quantity $x_i^*$ yields the best response function, $x_i^*=R_{x_i}(x_j^*)$.   \n",
    "To define this function, we use scipy brute force where the optimization problem per default is a minimization problem. Thus, if we want to maximize the profit of firm i, $\\pi_i(x_i,x_j)$, we need to minimize $-\\pi_i(x_i,x_j)$.    \n",
    "The method evaluates $-\\pi_i(x_i,x_j)$ for each value of $x_i$ in the given range in order to find the global minimum. We set this particular range of 0 to 1 for our results to be well-defined.   \n",
    "The reaction functions:"
   ]
  },
  {
   "cell_type": "code",
   "execution_count": 9,
   "metadata": {},
   "outputs": [],
   "source": [
    "from scipy import optimize, arange\n",
    "\n",
    "def reaction(x2,c,b):\n",
    "    x1 = optimize.brute(lambda x: -profit(x,x2,c,b), #brute minimizes the function\n",
    "                        ranges=((0,1),),\n",
    "                        finish=optimize.fmin)\n",
    "    return x1[0] "
   ]
  },
  {
   "cell_type": "markdown",
   "metadata": {},
   "source": [
    "**Finding the equilibrium**   \n",
    "Having defined the best repsonse function as a function of the other firms choice of quantity and the parameters, we need to set up a system of equations, which ensures that both firms are responding optimally given the other firms choice of quantity. We define two vectors in order to satisfy this condition.    \n",
    "The first vector, $x^* = \\begin{pmatrix}x_1^* \\\\x_2^* \\end{pmatrix}$, is the Nash equillibrium, and the other being each firms reaction function given the \n",
    "other firms choice of quantity, $f(x^*) = \\begin{pmatrix}r_1(x_2^*) \\\\r_2(x_1^*) \\end{pmatrix}$.    \n",
    "The Nash equillibrium, $x^*$ must satisfy that $x^* = f(x^*) \\Leftrightarrow x^* - f(x^*) = 0$.    \n",
    "This is just another way of stating that both firms are responding optimally and therefore have no incentive to deviate. We define a function, vector_reaction, which is passed an initial quantity for each firm as well as a set of parameters. vector_reaction keeps changing quantities untill both firms has maximized profits i.e when $x^* - f(x^*) = 0$.   \n",
    "The equilibrium condition in vectorized form (array):\n"
   ]
  },
  {
   "cell_type": "code",
   "execution_count": 18,
   "metadata": {},
   "outputs": [],
   "source": [
    "from numpy import array\n",
    "\n",
    "def vector_reaction(x,param): # vector param = (b,c1,c2)\n",
    "    return array(x)-array([reaction(x[1],param[1],param[0]),\n",
    "                           reaction(x[0],param[2],param[0])])"
   ]
  },
  {
   "cell_type": "markdown",
   "metadata": {},
   "source": [
    "We can solve the profit maximizing quantity using Scipy's \"fsolve\", which can solve a vectorized system of equations using an initial guess and the parameter values.   \n",
    "The first case is the one with perfect substitutes (b=1), the next is imperfect substitutes (b=0.5) and the last is perfect complements (b=0). Finally, we print the Nash equilibrium quantity and -profit."
   ]
  },
  {
   "cell_type": "code",
   "execution_count": 74,
   "metadata": {},
   "outputs": [
    {
     "name": "stdout",
     "output_type": "stream",
     "text": [
      "\u001b[1mPerfect substitutes\u001b[0m\n",
      "\u001b[92mThe Nash equilibrium quantity for both firms, x*=[x1*,x2*], x* = [0.33332648 0.33332648]\u001b[0m\n",
      "\u001b[92mThe Nash equilibrium price for both firms, p*= 0.3333470347232139\u001b[0m\n",
      "\u001b[92mThe Nash equilibrium profit for both firms, π*=: 0.11111339458222716\u001b[0m\n",
      "\u001b[1mImperfect substitutes\u001b[0m\n",
      "\u001b[94mThe Nash equilibrium quantity for both firms, x*=[x1*,x2*], x* = [0.4 0.4]\u001b[0m\n",
      "\u001b[94mThe Nash equilibrium price for firm 1 and 2: 0.39999999997022395\u001b[0m\n",
      "\u001b[94mThe Nash equilibrium profit for firm 1 and 2, π*= 0.15999999999602987\u001b[0m\n",
      "\u001b[1mPerfect complements\u001b[0m\n",
      "\u001b[95mThe Nash equilibrium quantity for both firms, x*=[x1*,x2*], x* = [0.49995888 0.49995888]\u001b[0m\n",
      "\u001b[95mThe Nash equilibrium price for both firms, p*= 0.39999999997022395\u001b[0m\n",
      "\u001b[95mThe Nash equilibrium profit for both firms,  π*= 0.24999999830927547\u001b[0m\n"
     ]
    }
   ],
   "source": [
    "x0 = [0.3, 0.3] #initial guess\n",
    "xstar_perf_substitutes = optimize.fsolve(vector_reaction, x0, args = ([1,0,0])) #(b=1,c1=0,c2=0) (perfect substitutes)\n",
    "print(color.BOLD + 'Perfect substitutes' + color.END)\n",
    "print(color.GREEN + f'The Nash equilibrium quantity for both firms, x*=[x1*,x2*], x* = {xstar_perf_substitutes}'  + color.END)\n",
    "print(color.GREEN + f'The Nash equilibrium price for both firms, p*= {demand(xstar_perf_substitutes[0],xstar_perf_substitutes[1],1)}'  + color.END)\n",
    "print(color.GREEN + f'The Nash equilibrium profit for both firms, π*=: {profit(xstar_perf_substitutes[0],xstar_perf_substitutes[1],0,1)}'  + color.END)\n",
    "\n",
    "x00 = [0.6, 0.6] #initial guess\n",
    "xstar_imperfect_substitutes = optimize.fsolve(vector_reaction, x00, args = ([0.5,0,0])) #(b=0.5,c1=0,c2=0) (imperfect substitutes)\n",
    "print(color.BOLD + 'Imperfect substitutes' + color.END)\n",
    "print(color.BLUE + f'The Nash equilibrium quantity for both firms, x*=[x1*,x2*], x* = {xstar_imperfect_substitutes}'  + color.END)\n",
    "print(color.BLUE + f'The Nash equilibrium price for firm 1 and 2: {demand(xstar_imperfect_substitutes[0],xstar_imperfect_substitutes[1],0.5)}'  + color.END)\n",
    "print(color.BLUE + f'The Nash equilibrium profit for firm 1 and 2, π*= {profit(xstar_imperfect_substitutes[0],xstar_imperfect_substitutes[1],0,0.5)}'  + color.END)\n",
    "\n",
    "x000 = [0.5, 0.5] #initial guess\n",
    "xstar_perf_complements = optimize.fsolve(vector_reaction, x000, args = ([0,0,0])) #(b=0,c1=0,c2=0) (perfect complements)\n",
    "print(color.BOLD + 'Perfect complements' + color.END)\n",
    "print(color.PURPLE + f'The Nash equilibrium quantity for both firms, x*=[x1*,x2*], x* = {xstar_perf_complements}' + color.END) \n",
    "print(color.PURPLE + f'The Nash equilibrium price for both firms, p*= {demand(xstar_imperfect_substitutes[0],xstar_imperfect_substitutes[1],0.5)}' + color.END)\n",
    "print(color.PURPLE + f'The Nash equilibrium profit for both firms,  π*= {profit(xstar_perf_complements[0],xstar_perf_complements[1],0,0)}' + color.END)\n"
   ]
  },
  {
   "cell_type": "markdown",
   "metadata": {},
   "source": [
    "We note that the equilibrium quantity and profit gets higher as the products become more and more differentiated.   \n",
    "This happens as the firms get to have more market power when the products are differentiated as $p^*=\\dfrac{1}{2+b}$"
   ]
  },
  {
   "cell_type": "markdown",
   "metadata": {},
   "source": [
    "The analytical solution is symmetrical as well (c=0):    $x^*=\\dfrac{1}{2+b}=p^*$ and $\\pi^*=\\dfrac{1+2b}{(2+b)^2}$,\n",
    "and checks out with the results above."
   ]
  },
  {
   "cell_type": "markdown",
   "metadata": {},
   "source": [
    "**Vizualizing the best response functions**"
   ]
  },
  {
   "cell_type": "code",
   "execution_count": null,
   "metadata": {},
   "outputs": [],
   "source": []
  },
  {
   "cell_type": "markdown",
   "metadata": {},
   "source": [
    "**Plotting the parameter $b$ against equilibrium quantity, -price and profit.**"
   ]
  },
  {
   "cell_type": "code",
   "execution_count": 63,
   "metadata": {},
   "outputs": [
    {
     "name": "stderr",
     "output_type": "stream",
     "text": [
      "C:\\Users\\Frederik\\Anaconda3\\lib\\site-packages\\scipy\\optimize\\minpack.py:162: RuntimeWarning: The iteration is not making good progress, as measured by the \n",
      "  improvement from the last ten iterations.\n",
      "  warnings.warn(msg, RuntimeWarning)\n"
     ]
    },
    {
     "data": {
      "text/plain": [
       "<function matplotlib.pyplot.show(*args, **kw)>"
      ]
     },
     "execution_count": 63,
     "metadata": {},
     "output_type": "execute_result"
    },
    {
     "data": {
      "text/plain": [
       "<Figure size 864x360 with 0 Axes>"
      ]
     },
     "metadata": {},
     "output_type": "display_data"
    },
    {
     "data": {
      "image/png": "[encoded data removed]",
      "text/plain": [
       "<Figure size 921.6x633.6 with 3 Axes>"
      ]
     },
     "metadata": {
      "needs_background": "light"
     },
     "output_type": "display_data"
    }
   ],
   "source": [
    "import matplotlib.pyplot as plt\n",
    "import numpy as np\n",
    "\n",
    "plt.style.use('seaborn-poster')\n",
    "\n",
    "N=100\n",
    "b_vec = np.linspace(0, 1, N) #Creating an equally spaced interval from 0 to 1, i.e. 0.00, 0.01,...0.99,1,00\n",
    "x1_vec = np.empty(N) #Empty array of shape=N=100\n",
    "x2_vec = np.empty(N) \n",
    "price_vec = np.empty(N) \n",
    "pi_vec = np.empty(N)\n",
    "\n",
    "def solver(b):\n",
    "    return optimize.fsolve(vector_reaction, [0.5,0.5], args = ([b,0,0]))\n",
    "\n",
    "\n",
    "for i,b in enumerate(b_vec):\n",
    "    cord = solver(b)\n",
    "    x1_vec[i] = cord[0] #x1* given each b in the equal spaced interval\n",
    "    x2_vec[i] = cord[1]\n",
    "    price_vec[i] = demand(x1_vec[i],x2_vec[i],b) #profit(x1*,x2*,c=0,b)\n",
    "    pi_vec[i] = profit(x1_vec[i],x1_vec[i],0,b) #profit(x1*,x2*,c=0,b)\n",
    "\n",
    "\n",
    "#x.3 Plotting equilibrium quantity given b\n",
    "fig, (ax_0, ax_1, ax_2) = plt.subplots(3, sharex=True) #They share the same x-axis\n",
    "\n",
    "ax_0.plot(b_vec,x1_vec)\n",
    "\n",
    "ax_0.set_title('Equilibrium quantity given b')\n",
    "ax_0.set_ylabel('$x^\\star$')\n",
    "ax_0.grid(True)\n",
    "\n",
    "\n",
    "#x.4 Plotting equilibrium price given b\n",
    "\n",
    "ax_1.plot(b_vec,price_vec)\n",
    "\n",
    "ax_1.set_title('Equilibrium price given b')\n",
    "ax_1.set_ylabel('$x^\\star$, $p^\\star$')\n",
    "ax_1.grid(True)\n",
    "\n",
    "\n",
    "#x.5 Plotting equilibrium profit given b\n",
    "\n",
    "ax_2.plot(b_vec,pi_vec)\n",
    "\n",
    "ax_2.set_title('Equilibrium profit given b')\n",
    "ax_2.set_xlabel('$b$')\n",
    "ax_2.set_ylabel('$\\pi^\\star$')\n",
    "ax_2.grid(True)\n",
    "\n",
    "\n",
    "plt.show"
   ]
  },
  {
   "cell_type": "markdown",
   "metadata": {},
   "source": [
    "We note how the equilibrium quantity, -price and -profit decreases with an increase in product differentiation, b."
   ]
  },
  {
   "cell_type": "code",
   "execution_count": 73,
   "metadata": {},
   "outputs": [],
   "source": [
    "#Code to dress up the markdown\n",
    "class color:\n",
    "   PURPLE = '\\033[95m'\n",
    "   CYAN = '\\033[96m'\n",
    "   DARKCYAN = '\\033[36m'\n",
    "   BLUE = '\\033[94m'\n",
    "   GREEN = '\\033[92m'\n",
    "   YELLOW = '\\033[93m'\n",
    "   RED = '\\033[91m'\n",
    "   BOLD = '\\033[1m'\n",
    "   UNDERLINE = '\\033[4m'\n",
    "   END = '\\033[0m'\n",
    "    "
   ]
  },
  {
   "cell_type": "code",
   "execution_count": null,
   "metadata": {},
   "outputs": [],
   "source": []
  }
 ],
 "metadata": {
  "kernelspec": {
   "display_name": "Python 3",
   "language": "python",
   "name": "python3"
  },
  "language_info": {
   "codemirror_mode": {
    "name": "ipython",
    "version": 3
   },
   "file_extension": ".py",
   "mimetype": "text/x-python",
   "name": "python",
   "nbconvert_exporter": "python",
   "pygments_lexer": "ipython3",
   "version": "3.7.4"
  }
 },
 "nbformat": 4,
 "nbformat_minor": 4
}
