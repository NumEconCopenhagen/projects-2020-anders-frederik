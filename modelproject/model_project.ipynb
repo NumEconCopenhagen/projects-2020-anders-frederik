{
 "cells": [
  {
   "cell_type": "markdown",
   "metadata": {},
   "source": [
    "# A Cournot competition model with product differentiation\n",
    "## Model Project\n",
    "### Group: Anders&Frederik    \n",
    "#### Group members: Frederik Andresen, rjv586. Anders Meelby, zpw286.\n",
    "\n",
    "\n",
    "\n",
    "**The model**    \n",
    "Consider two firms who compete in the same market i.e. a duopoly. The market is characterized by Cournot competetion:    \n",
    "\n",
    "- The firms are competing in quantities they produce; \n",
    "- The firms decide the quantities independently of each other and simultaneously;\n",
    "- The firms do not coorperate (no collusion); \n",
    "- The firms have market power why each firm's output decision affects the price of each firm's good;\n",
    "- The firms are economically rational and act strategically to maximize their profit given their competitors' decisions. "
   ]
  },
  {
   "cell_type": "markdown",
   "metadata": {},
   "source": [
    "**Demand/price**   \n",
    "\n",
    "We define the inverse demand (price) for firm $i$ in such a market:   \n",
    "$p_i=p(x_i+x_j)=1-x_i+b\\cdot x_j,$ for each $i\\neq j \\in \\{1,2\\},$   \n",
    "where $x_1$ is production by firm 1, $x_2$ is production by firm 2, and $b$ is a positive constant determining the degree of substitutability between the two goods. Letting $b=1$ makes the goods perfect substitutes and $b<1$ makes the goods differentiated."
   ]
  },
  {
   "cell_type": "code",
   "execution_count": 2,
   "metadata": {},
   "outputs": [],
   "source": [
    "# 1.1 Define price/demand\n",
    "def demand(x1,x2,b):\n",
    "    return 1-x1-b*x2"
   ]
  },
  {
   "cell_type": "markdown",
   "metadata": {},
   "source": [
    "**Cost**   \n",
    "Both firms have the cost functions, $C(x_i)=cx_i$ for $i=1,2$ such that the marginal costs are constant, $\\dfrac{\\partial C(x_i)}{\\partial x_i}=c_i.$"
   ]
  },
  {
   "cell_type": "code",
   "execution_count": 3,
   "metadata": {},
   "outputs": [],
   "source": [
    "# 1.2 Define costs\n",
    "def cost(x,c): #c(x==0)=0\n",
    "    if x == 0: \n",
    "     cost = 0\n",
    "    else:\n",
    "     cost = c*x\n",
    "    return cost "
   ]
  },
  {
   "cell_type": "markdown",
   "metadata": {},
   "source": [
    "**Profit**    \n",
    "The profit of firm $i$ can be stated as the following:   \n",
    "$\\pi_i(x_i,x_j) = p_i(x_i,x_j)x_i-C(x_i)$   for each $i\\neq j \\in \\{1,2\\}$"
   ]
  },
  {
   "cell_type": "code",
   "execution_count": 4,
   "metadata": {},
   "outputs": [],
   "source": [
    "# 1.3 Define profits\n",
    "def profit(x1,x2,c1,b):\n",
    "    return demand(x1,x2,b)*x1 - cost(x1,c1)"
   ]
  },
  {
   "cell_type": "markdown",
   "metadata": {},
   "source": [
    "**Best response**   \n",
    "Firm $i$ chooses its quantity, $x_i$, as to maximize profits, taking $x_j$ as given. $(x_i^*,x_j^*)$ is therefore a Nash equillibrium if $x_i^*=\\underset{x_i}{\\textrm{arg max}} \\pi_i(x_i,x_j^*)$ for each $i\\neq j \\in{1,2}$. \n",
    "If the profit is concave in output, the Nash equillibrium $(x_i^*,x_j^*)$ is the solution to $\\frac{\\partial \\pi_i(x_i,x_j}{\\partial x_i}|_{x_i=x_i^*,x_j=x_j^*} = 0$.     \n",
    "\n",
    "Isolating the profit maximizing quantity $x_i^*$ yields the best response function, $x_i^*=R_{x_i}(x_j^*)$.   \n",
    "To define this function, we use scipy brute force where the optimization problem per default is a minimization problem. Thus, if we want to maximize the profit of firm i, $\\pi_i(x_i,x_j)$, we need to minimize $-\\pi_i(x_i,x_j)$.    \n",
    "The method evaluates $-\\pi_i(x_i,x_j)$ for each value of $x_i$ in the given range in order to find the global minimum. We set this particular range of 0 to 1 for our results to be well-defined.   \n",
    "The best response functions:"
   ]
  },
  {
   "cell_type": "code",
   "execution_count": 5,
   "metadata": {},
   "outputs": [],
   "source": [
    "from scipy import optimize\n",
    "\n",
    "# 1.4 Define best response function of both firms using lambda and optimize.brute\n",
    "def reaction(x2,c,b):\n",
    "    x1 = optimize.brute(lambda x: -profit(x,x2,c,b), \n",
    "                        ranges=((0,1),), #x1,x2 can take on values between 0 and 1.\n",
    "                        finish=optimize.fmin)\n",
    "    return x1[0] "
   ]
  },
  {
   "cell_type": "markdown",
   "metadata": {},
   "source": [
    "**Finding the equilibrium by numerical optimization**   \n",
    "Having defined the best repsonse function as a function of the other firms choice of quantity and the parameters, we need to set up a system of equations, which ensures that both firms are responding optimally given the other firms choice of quantity. We define two vectors in order to satisfy this condition.    \n",
    "The first vector, $x^* = \\begin{pmatrix}x_1^* \\\\x_2^* \\end{pmatrix}$, is the Nash equillibrium, and the other being each firms reaction function given the \n",
    "other firms choice of quantity, $f(x^*) = \\begin{pmatrix}r_1(x_2^*) \\\\r_2(x_1^*) \\end{pmatrix}$.    \n",
    "The Nash equillibrium, $x^*$ must satisfy that $x^* = f(x^*) \\Leftrightarrow x^* - f(x^*) = 0$.    \n",
    "This is just another way of stating that both firms are responding optimally and therefore have no incentive to deviate. We define a function, vector_reaction, which is passed an initial quantity for each firm as well as a set of parameters. vector_reaction keeps changing quantities untill both firms has maximized profits i.e when $x^* - f(x^*) = 0$.   \n",
    "The equilibrium condition in vectorized form (array):\n"
   ]
  },
  {
   "cell_type": "code",
   "execution_count": 6,
   "metadata": {},
   "outputs": [],
   "source": [
    "from numpy import array\n",
    "\n",
    "# 1.5 Define best responses as an array\n",
    "def vector_reaction(x,param): # vector param = (b,c1,c2)\n",
    "    return array(x)-array([reaction(x[1],param[1],param[0]),  #x1 = reaction(x2,c1,b)\n",
    "                           reaction(x[0],param[2],param[0])]) #x2 = reaction(x1,c2,b)"
   ]
  },
  {
   "cell_type": "markdown",
   "metadata": {},
   "source": [
    "We can solve for the profit maximizing quantity using Scipy's \"fsolve\", which can solve a vectorized system of equations using an initial guess and the parameter values.   \n",
    "The first case is the one with perfect substitutes or homogeneous products (b=1), the next is imperfect substitutes (b=0.5) and the last is perfect complements  (b=0).    \n",
    "Finally, we print the Nash equilibrium quantity and -profit."
   ]
  },
  {
   "cell_type": "code",
   "execution_count": 7,
   "metadata": {},
   "outputs": [
    {
     "data": {
      "text/markdown": [
       "**Perfect substitutes (b=1)**"
      ],
      "text/plain": [
       "<IPython.core.display.Markdown object>"
      ]
     },
     "metadata": {},
     "output_type": "display_data"
    },
    {
     "data": {
      "text/markdown": [
       "The Nash equilibrium quantity for both firms, $x^* =[x_1^*,x_2^*]$ = [0.33332648 0.33332648]"
      ],
      "text/plain": [
       "<IPython.core.display.Markdown object>"
      ]
     },
     "metadata": {},
     "output_type": "display_data"
    },
    {
     "data": {
      "text/markdown": [
       "The Nash equilibrium price for firm 1 and 2, $p^*$= 0.3333470347232139"
      ],
      "text/plain": [
       "<IPython.core.display.Markdown object>"
      ]
     },
     "metadata": {},
     "output_type": "display_data"
    },
    {
     "data": {
      "text/markdown": [
       "The Nash equilibrium profit for firm 1 and 2, $\\pi^*$= 0.11111339458222716"
      ],
      "text/plain": [
       "<IPython.core.display.Markdown object>"
      ]
     },
     "metadata": {},
     "output_type": "display_data"
    },
    {
     "data": {
      "text/markdown": [
       "**Imperfect substitutes (b=0.5)**"
      ],
      "text/plain": [
       "<IPython.core.display.Markdown object>"
      ]
     },
     "metadata": {},
     "output_type": "display_data"
    },
    {
     "data": {
      "text/markdown": [
       "The Nash equilibrium quantity for both firms, $x^* =[x_1^*,x_2^*]$ = [0.4 0.4]"
      ],
      "text/plain": [
       "<IPython.core.display.Markdown object>"
      ]
     },
     "metadata": {},
     "output_type": "display_data"
    },
    {
     "data": {
      "text/markdown": [
       "The Nash equilibrium price for firm 1 and 2, $p^*$= 0.39999999997022395"
      ],
      "text/plain": [
       "<IPython.core.display.Markdown object>"
      ]
     },
     "metadata": {},
     "output_type": "display_data"
    },
    {
     "data": {
      "text/markdown": [
       "The Nash equilibrium profit for firm 1 and 2, $\\pi^*$= 0.15999999999602987"
      ],
      "text/plain": [
       "<IPython.core.display.Markdown object>"
      ]
     },
     "metadata": {},
     "output_type": "display_data"
    },
    {
     "data": {
      "text/markdown": [
       "**Perfect complements  (b=0)**"
      ],
      "text/plain": [
       "<IPython.core.display.Markdown object>"
      ]
     },
     "metadata": {},
     "output_type": "display_data"
    },
    {
     "data": {
      "text/markdown": [
       "The Nash equilibrium quantity for both firms, $x^* =[x_1^*,x_2^*]$ = [0.49995888 0.49995888]"
      ],
      "text/plain": [
       "<IPython.core.display.Markdown object>"
      ]
     },
     "metadata": {},
     "output_type": "display_data"
    },
    {
     "data": {
      "text/markdown": [
       "The Nash equilibrium price for firm 1 and 2, $p^*$= 0.5000411184210527"
      ],
      "text/plain": [
       "<IPython.core.display.Markdown object>"
      ]
     },
     "metadata": {},
     "output_type": "display_data"
    },
    {
     "data": {
      "text/markdown": [
       "The Nash equilibrium profit for firm 1 and 2, $\\pi^*$= 0.24999999830927547"
      ],
      "text/plain": [
       "<IPython.core.display.Markdown object>"
      ]
     },
     "metadata": {},
     "output_type": "display_data"
    }
   ],
   "source": [
    "from IPython.display import Markdown, display #Creating Markdown-like printing for better visuals\n",
    "def printmd(string):\n",
    "    display(Markdown(string))\n",
    "\n",
    "b_list=[1,0.5,0]\n",
    "x0_list=[[0.3,0.3],[0.6,0.6],[0.5,0.5]]\n",
    "titles =['**Perfect substitutes (b=1)**','**Imperfect substitutes (b=0.5)**','**Perfect complements  (b=0)**']\n",
    "# 1.6 Print results by looping through the above lists\n",
    "for x0, b, t in zip(x0_list, b_list, titles):\n",
    "    x_opt = optimize.fsolve(vector_reaction, x0, args = ([b,0,0]))\n",
    "    printmd(t)\n",
    "    printmd(f'The Nash equilibrium quantity for both firms, $x^* =[x_1^*,x_2^*]$ = {x_opt}')\n",
    "    printmd(f'The Nash equilibrium price for firm 1 and 2, $p^*$= {demand(x_opt[0],x_opt[1],b)}')\n",
    "    printmd(f'The Nash equilibrium profit for firm 1 and 2, $\\pi^*$= {profit(x_opt[0],x_opt[1],0,b)}')\n"
   ]
  },
  {
   "cell_type": "markdown",
   "metadata": {},
   "source": [
    "Each firm sets a higher output (and charges a higher price) at the monopoly outcome (b=0) with independent products than if products are homogeneous (b=1).    \n",
    "Generally, the equilibrium quantity, -price and profit increase as the products become more differentiated. "
   ]
  },
  {
   "cell_type": "markdown",
   "metadata": {},
   "source": [
    "The analytical solution is symmetrical as well (c=0):    $x^*=\\dfrac{1}{2+b}=p^*$, and, $\\pi^*=\\dfrac{1+2b}{(2+b)^2}$,\n",
    "and checks out with the results above."
   ]
  },
  {
   "cell_type": "markdown",
   "metadata": {},
   "source": [
    "**Vizualizing the best response functions**    \n",
    "We plot the best response functions for the two firms and visualize the equilibrium quantities with three different parameter values of b."
   ]
  },
  {
   "cell_type": "code",
   "execution_count": 8,
   "metadata": {},
   "outputs": [
    {
     "data": {
      "text/markdown": [
       "Intersection, $x^*$=([0.33233233],[0.33233233])"
      ],
      "text/plain": [
       "<IPython.core.display.Markdown object>"
      ]
     },
     "metadata": {},
     "output_type": "display_data"
    },
    {
     "data": {
      "text/plain": [
       "<Figure size 1280x880 with 1 Axes>"
      ]
     },
     "metadata": {},
     "output_type": "display_data"
    },
    {
     "data": {
      "text/markdown": [
       "Intersection, $x^*$=([0.3993994],[0.3993994])"
      ],
      "text/plain": [
       "<IPython.core.display.Markdown object>"
      ]
     },
     "metadata": {},
     "output_type": "display_data"
    },
    {
     "data": {
      "text/plain": [
       "<Figure size 1280x880 with 1 Axes>"
      ]
     },
     "metadata": {},
     "output_type": "display_data"
    },
    {
     "data": {
      "text/markdown": [
       "Intersection, $x^*$=([0.4994995],[0.4994995])"
      ],
      "text/plain": [
       "<IPython.core.display.Markdown object>"
      ]
     },
     "metadata": {},
     "output_type": "display_data"
    },
    {
     "data": {
      "text/plain": [
       "<Figure size 1280x880 with 1 Axes>"
      ]
     },
     "metadata": {},
     "output_type": "display_data"
    }
   ],
   "source": [
    "import sympy as sy\n",
    "import matplotlib.pyplot as plt\n",
    "import numpy as np\n",
    "plt.style.use('seaborn-poster')\n",
    "\n",
    "# 2.1 Create list of three parameter values and figure titles\n",
    "b_list = [1, 0.5, 0.001]\n",
    "title_list = [\"The best response functions in quantity-space with perfect substitutes (b=1)\", \"The best response functions in quantity-space with imperfect substitutes (b=0.5)\",\"The best response functions in quantity-space with close complements (b=0.001)\"]\n",
    "\n",
    "# 2.2 Two loops through two lists for the parameter b and figure titles, respectively\n",
    "for b, t in zip(b_list,title_list):    \n",
    "\n",
    "    # 2.3 Define array of quantities and storage vectors\n",
    "    N=1000 \n",
    "    q_vec = np.linspace(0, 1, N)\n",
    "    q1_vec = np.empty(N) \n",
    "    q2_vec = np.empty(N) \n",
    "\n",
    "    # 2.4 Loop through the 1000 quantities in q_vec and get R_i(x_j) for each firm\n",
    "    for i,x2 in enumerate(q_vec):\n",
    "        cord1 = q1_vec[i] = reaction(x2,0,b)\n",
    "    for i,x1 in enumerate(q_vec):\n",
    "        cord2 = q2_vec[i] = reaction(x1,0,b)\n",
    "\n",
    "    # 2.5 Plot equilibrium quantity given b\n",
    "    plt.title(t)\n",
    "    plt.xlabel('$x_2$')\n",
    "    plt.ylabel('$x_1$')\n",
    "    plt.plot(q1_vec, q_vec, '-', label='$R_1(x_2)$')\n",
    "    plt.plot(q_vec, q2_vec, '-', label='$R_2(x_1)$')\n",
    "    plt.legend(loc='best')\n",
    "    plt.xlim(0,1)\n",
    "    plt.ylim(0,1)\n",
    "    p = np.argwhere(np.diff(np.sign(q_vec - q1_vec))).flatten() \n",
    "    plt.plot(q_vec[p], q_vec[p], 'ro')\n",
    "    printmd(f'Intersection, $x^*$=({q_vec[p]},{q_vec[p]})')\n",
    "    plt.show()"
   ]
  },
  {
   "cell_type": "markdown",
   "metadata": {},
   "source": [
    "In the two first graphs both best responses are decreases in the rival firm's quantity: If one firm raises its output it is optimal for the other firm to reducer its output (\"Strategic substitutes\"). \n",
    "At (near) perfect complements, the optimal output is (near) independent of the rival firm's output."
   ]
  },
  {
   "cell_type": "markdown",
   "metadata": {},
   "source": [
    "**Plotting the parameter $b$ against equilibrium quantity, -price and profit.**     \n",
    "* We initially define a set of storage arrays for each variable to be used with a length of N=1000.\n",
    "* We loop through each value of b in an equal spaced array using enumerate.\n",
    "* For each b in the loop, we solve for the equilibrium quantity for either firm using Scipy's optimize.solve.\n",
    "* We define the resulting eq. price and -profit. \n",
    "* We get that the equilibrium quantity, -price and profit get lower as the products become less differentiated. "
   ]
  },
  {
   "cell_type": "code",
   "execution_count": null,
   "metadata": {},
   "outputs": [],
   "source": [
    "# 3.1 Define data for b and storage vectors\n",
    "b_vec = np.linspace(0, 1, N) \n",
    "x1_vec = np.empty(N) \n",
    "x2_vec = np.empty(N) \n",
    "price_vec = np.empty(N) \n",
    "pi_vec = np.empty(N)\n",
    "\n",
    "# 3.2 Define solver from the vectorized equilibrium condition for b to loop through\n",
    "def solver(b):\n",
    "    return optimize.fsolve(vector_reaction, [0.5,0.5], args = ([b,0,0])) \n",
    "\n",
    "# 3.3 Let b loop through the solver and get optimal quantity, -price and -profit of firm 1 for each b (price and profit of firm 2 are commented out)\n",
    "for i,b in enumerate(b_vec):\n",
    "    cord = solver(b)\n",
    "    x1_vec[i] = cord[0] \n",
    "    x2_vec[i] = cord[1]\n",
    "    price_vec[i] = demand(x1_vec[i],x2_vec[i],b) \n",
    "    pi_vec[i] = profit(x1_vec[i],x2_vec[i],0,b) \n",
    "\n",
    "# 3.4 Plot equilibrium quantity given b\n",
    "fig, (ax_0, ax_1, ax_2) = plt.subplots(3, sharex=True) \n",
    "\n",
    "ax_0.plot(b_vec,x1_vec)\n",
    "\n",
    "ax_0.set_title('Equilibrium quantity given b')\n",
    "ax_0.set_ylabel('$x^\\star$')\n",
    "ax_0.grid(True)\n",
    "\n",
    "# 3.5 Plot equilibrium price given b\n",
    "\n",
    "ax_1.plot(b_vec,price_vec)\n",
    "\n",
    "ax_1.set_title('Equilibrium price given b')\n",
    "ax_1.set_ylabel('$p^\\star$')\n",
    "ax_1.grid(True)\n",
    "\n",
    "\n",
    "# 3.5 Plot equilibrium profit given b\n",
    "\n",
    "ax_2.plot(b_vec,pi_vec)\n",
    "\n",
    "ax_2.set_title('Equilibrium profit given b')\n",
    "ax_2.set_xlabel('$b$')\n",
    "ax_2.set_ylabel('$\\pi^\\star$')\n",
    "ax_2.grid(True)\n",
    "\n",
    "\n",
    "plt.show"
   ]
  },
  {
   "cell_type": "markdown",
   "metadata": {},
   "source": [
    "The equilibrium quantity and price are equal as previously stated.    \n",
    "**Conclusion**   \n",
    "The equilibrium quantity, -price and profit decrease as the products become less differentiated.\n",
    "Thus, having two monopolists with heterogeneous products is preferable to a duopoly with homogeneous products from a social welfare point-of-view."
   ]
  }
 ],
 "metadata": {
  "kernelspec": {
   "display_name": "Python 3",
   "language": "python",
   "name": "python3"
  },
  "language_info": {
   "codemirror_mode": {
    "name": "ipython",
    "version": 3
   },
   "file_extension": ".py",
   "mimetype": "text/x-python",
   "name": "python",
   "nbconvert_exporter": "python",
   "pygments_lexer": "ipython3",
   "version": "3.7.4"
  }
 },
 "nbformat": 4,
 "nbformat_minor": 4
}
