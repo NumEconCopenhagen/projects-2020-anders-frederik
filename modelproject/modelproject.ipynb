{
 "cells": [
  {
   "cell_type": "markdown",
   "metadata": {},
   "source": [
    "##Model Project     \n",
    "##Group: Anders&Frederik    \n",
    "##Group members: Frederik Andresen, rjv586. Anders Meelby, zpw586."
   ]
  },
  {
   "cell_type": "code",
   "execution_count": 26,
   "metadata": {},
   "outputs": [],
   "source": [
    "from scipy import optimize, arange\n",
    "from numpy import array\n",
    "import matplotlib.pyplot as plt\n",
    "%matplotlib inline"
   ]
  },
  {
   "cell_type": "markdown",
   "metadata": {},
   "source": [
    "#### Cournot competition    \n",
    "Consider two firms competing in the same market i.e. a duopoly. The firms are competing by quantities, hence the market is characterized by Cournot competetion. The inverse demand (price) is thus given by:   \n",
    "$p=p(x_1+x_2)=1-b(x_1+x_2)$ where $x_1$ is production by firm 1, $x_2$ is production by firm 2, and $b$ is a positive constant."
   ]
  },
  {
   "cell_type": "code",
   "execution_count": 27,
   "metadata": {},
   "outputs": [],
   "source": [
    "def price(x1,x2,b):\n",
    "    return 1-b*(x1-x2)"
   ]
  },
  {
   "cell_type": "markdown",
   "metadata": {},
   "source": [
    "Both firms have costfunctions, $C(x_i)=cx_i$ for $i=1,2$ such that the marginal costs are constant, $\\dfrac{\\partial C(x_i)}{\\partial x_i}=c_i$. "
   ]
  },
  {
   "cell_type": "code",
   "execution_count": 28,
   "metadata": {},
   "outputs": [],
   "source": [
    "def cost(x,c):\n",
    "    if x == 0:\n",
    "     cost = 0\n",
    "    else:\n",
    "     cost = c*x\n",
    "    return cost "
   ]
  },
  {
   "cell_type": "markdown",
   "metadata": {},
   "source": [
    "Profit is therefore given as:\n",
    "$\\pi_i(x_i,x_j) = p_i(x_i,x_j)x_i-C(x_i)$"
   ]
  },
  {
   "cell_type": "code",
   "execution_count": 29,
   "metadata": {},
   "outputs": [],
   "source": [
    "def profit(x1,x2,c1,b):\n",
    "    return price(x1,x2,b)*x1 - cost(x1,c1)"
   ]
  },
  {
   "cell_type": "markdown",
   "metadata": {},
   "source": [
    "Firm i chooses $x_i$ to maximize profits, taking $x_j$ as given. $(x_i^*,x_j^*)$ is therefore a Nash equillibrium if $x_i^*=\\underset{x_i}{\\operatorname{arg max \\pi_i(x_i,x_j^*)}}$ for each $i\\neq j \\in{1,2}$. If the profit is concave in output, the Nash equillibrium $(x_i^*,x_j^*)$ is the solution to $\\frac{\\partial \\pi_i(x_i,x_j}{\\partial x_i}|_{x_i=x_i^*,x_j=x_j^*} = 0$. Isolating the profit maximizing quantity $x_i^*$ yields the best response function, $x_i^*=R_{x_i}(x_j^*)$. In order to define this function, we use scipy brute force where the optimization problem per default is a minimization problem. Thus, if we want to maximize the profit of firm i, $\\pi_i(x_i,x_j)$, we need to minimize $-\\pi_i(x_i,x_j)$. The method evaluates $-\\pi_i(x_i,x_j)$ for each value of $x_i$ in the given range in order to find the global minimum. "
   ]
  },
  {
   "cell_type": "code",
   "execution_count": 30,
   "metadata": {},
   "outputs": [],
   "source": [
    "def reaction(x2,c,b):\n",
    "    x1 = optimize.brute(lambda x1: -profit(x1,x2,c,b), #brute minimizes the function\n",
    "                        ranges=((0,1),),\n",
    "                        finish=optimize.fmin)\n",
    "    return x1[0] "
   ]
  },
  {
   "cell_type": "markdown",
   "metadata": {},
   "source": [
    "Having defined the best repsonse function as a function of the other firms choice of quantity and of parameters, we need to set up a system of equation which ensures both firms are responding optimally given the other firms choice of quantity. \n",
    "\n",
    "We define two vectors in order to satisfy this condition. The first vector, $x^* = \\begin{pmatrix}x_1^* \\\\x_2^* \\end{pmatrix}$ being the Nash equillibrium, and the other being each firms reaction function given the \n",
    "other firms choice of quantity, $f(x^*) = \\begin{pmatrix}r_1(x_2^*) \\\\r_2(x_1^*) \\end{pmatrix}$. The Nash equillibrium, $x^*$ must satisfy that $x^* = f(x^*) \\rightarrow x^* - f(x^*) = 0$. This is just another way of stating that both firms are responding optimally and therefore have no incentive to deviate. We define a function, vector_reaction, which is passed an initial quantity for each firm as well as a set of parameters. vector_reaction keeps changing quantities untill both firms has maximized profits i.e when $x^* - f(x^*) = 0$. \n"
   ]
  },
  {
   "cell_type": "code",
   "execution_count": 31,
   "metadata": {},
   "outputs": [
    {
     "name": "stdout",
     "output_type": "stream",
     "text": [
      "[0.50020583 0.59995098]\n"
     ]
    }
   ],
   "source": [
    "def vector_reaction(x,param): # vector param = (b,c1,c2)\n",
    "    return array(x)-array([reaction(x[1],param[1],param[0]),\n",
    "                           reaction(x[0],param[2],param[0])])\n",
    "\n",
    "param = [1, 1, 0.5] #b,c1,c2\n",
    "x0 = [0.5, 0.5] #initial guess\n",
    "\n",
    "ans = optimize.fsolve(vector_reaction, x0, args = (param))\n",
    "print(ans)"
   ]
  },
  {
   "cell_type": "code",
   "execution_count": null,
   "metadata": {},
   "outputs": [],
   "source": []
  }
 ],
 "metadata": {
  "kernelspec": {
   "display_name": "Python 3",
   "language": "python",
   "name": "python3"
  },
  "language_info": {
   "codemirror_mode": {
    "name": "ipython",
    "version": 3
   },
   "file_extension": ".py",
   "mimetype": "text/x-python",
   "name": "python",
   "nbconvert_exporter": "python",
   "pygments_lexer": "ipython3",
   "version": "3.7.4"
  }
 },
 "nbformat": 4,
 "nbformat_minor": 4
}
